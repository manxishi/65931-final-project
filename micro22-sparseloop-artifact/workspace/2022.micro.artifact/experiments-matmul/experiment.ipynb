{
 "cells": [
  {
   "cell_type": "code",
   "execution_count": 1,
   "id": "40a40d45",
   "metadata": {},
   "outputs": [
    {
     "name": "stdout",
     "output_type": "stream",
     "text": [
      "/home/workspace/2022.micro.artifact/experiments-matmul\n"
     ]
    }
   ],
   "source": [
    "from helpers import *\n",
    "import os\n",
    "print(os.getcwd())"
   ]
  },
  {
   "cell_type": "code",
   "execution_count": 3,
   "id": "a5ae5bef",
   "metadata": {},
   "outputs": [],
   "source": [
    "verbose = True\n",
    "architecture2 = \"/home/workspace/2022.micro.artifact/experiments-matmul/arch3.yaml\"\n",
    "component = \"/home/workspace/2022.micro.artifact/experiments-matmul/compound_components.yaml\"\n",
    "ERT_output_path = \"ERT.yaml\"\n",
    "ART_output_path = \"ART.yaml\"\n",
    "sparse_opts = \"SI-SW.yaml\"\n",
    "workload = \"/home/workspace/2022.micro.artifact/experiments-matmul/matmul.yaml\"\n",
    "mapper = \"/home/workspace/2022.micro.artifact/experiments-matmul/mapper.yaml\"\n",
    "mapping = \"/home/workspace/2022.micro.artifact/experiments-matmul/timeloop_temp/timeloop-mapper.map.yaml\"\n",
    "constraints = \"/home/workspace/2022.micro.artifact/experiments-matmul/constraints.yaml\""
   ]
  },
  {
   "cell_type": "code",
   "execution_count": 4,
   "id": "fe9d7241",
   "metadata": {},
   "outputs": [
    {
     "name": "stdout",
     "output_type": "stream",
     "text": [
      "Running Accelergy command: accelergy /home/workspace/2022.micro.artifact/experiments-matmul/arch3.yaml /home/workspace/2022.micro.artifact/experiments-matmul/compound_components.yaml -o accelergy_temp -v 1\n",
      "    _                _                      \n",
      "   / \\   ___ ___ ___| | ___ _ __ __ _ _   _ \n",
      "  / _ \\ / __/ __/ _ \\ |/ _ \\ '__/ _` | | | |\n",
      " / ___ \\ (_| (_|  __/ |  __/ | | (_| | |_| |\n",
      "/_/   \\_\\___\\___\\___|_|\\___|_|  \\__, |\\__, |\n",
      "                                |___/ |___/ \n",
      "\n",
      "Info: generating outputs according to the following specified output flags... \n",
      " Please use the -f flag to update the preference (default to all output files) \n",
      "{'ERT': 1, 'ERT_summary': 1, 'ART': 1, 'ART_summary': 1, 'energy_estimation': 1, 'flattened_arch': 1}\n",
      "Info: config file located: /home/workspace/.config/accelergy/accelergy_config.yaml \n",
      "config file content: \n",
      " {'version': 0.3, 'compound_components': [], 'estimator_plug_ins': ['/usr/local/share/accelergy/estimation_plug_ins'], 'primitive_components': ['/usr/local/share/accelergy/primitive_component_libs'], 'table_plug_ins': {'roots': ['/usr/local/share/accelergy/estimation_plug_ins/accelergy-table-based-plug-ins/set_of_table_templates']}}\n",
      "Info: Parsing file /home/workspace/2022.micro.artifact/experiments-matmul/arch3.yaml for architecture info \n",
      "Info: Found non-numeric expression 45nm. Available bindings: {'technology': '45nm'} \n",
      "WARN: Failed to evaluate \"45nm\". Setting system.technology=\"45nm\". Available bindings: {'technology': '45nm'}\n",
      "Info: Found non-numeric expression HBM2. Available bindings: {'spatial': False, 'instances': 1, 'type': 'HBM2', 'width': 256, 'block-size': 16, 'word-bits': 16, 'metadata_storage_width': 16, 'technology': '45nm'} \n",
      "WARN: Failed to evaluate \"HBM2\". Setting variables.type=\"HBM2\". Available bindings: {'name': 'BackingStorage', 'class': 'DRAM', 'subclass': 'DRAM', 'attributes': {'spatial': False, 'instances': 1, 'type': 'HBM2', 'width': 256, 'block-size': 16, 'word-bits': 16, 'metadata_storage_width': 16, 'technology': '45nm'}}\n",
      "Info: Parsing file /home/workspace/2022.micro.artifact/experiments-matmul/compound_components.yaml for compound_components info \n",
      "Info: primitive component file parsed:  /usr/local/share/accelergy/primitive_component_libs/primitive_component.lib.yaml \n",
      "Info: primitive component file parsed:  /usr/local/share/accelergy/primitive_component_libs/pim_primitive_component.lib.yaml \n",
      "Info: primitive component file parsed:  /usr/local/share/accelergy/primitive_component_libs/soc_primitives.lib.yaml \n",
      "Info: Calculated \"data_storage_width\" = 8 \n",
      "Info: Calculated \"metadata_storage_width\" = 4 \n",
      "Info: Calculated \"log(data_storage_depth)\" = 2.772588722239781 \n",
      "Info: Calculated \"metadata_storage_width\" = 8 \n",
      "Info: Calculated \"log(data_storage_depth)\" = 5.2574953720277815 \n",
      "Info: Found non-numeric expression 5ns. Available bindings: {'spatial': True, 'depth': 32, 'width': 20, 'datawidth': 20, 'block_size': 1, 'technology': '45nm', 'meshX': 4, 'meshY': 4, 'n_rd_ports': 0, 'n_wr_ports': 0, 'n_rdwr_ports': 1, 'n_banks': 1, 'latency': '5ns'} \n",
      "WARN: Failed to evaluate \"5ns\". Setting system.PE[0..15].psum_spad.latency=\"5ns\". Available bindings: {'spatial': True, 'depth': 32, 'width': 20, 'datawidth': 20, 'block_size': 1, 'technology': '45nm', 'meshX': 4, 'meshY': 4, 'n_rd_ports': 0, 'n_wr_ports': 0, 'n_rdwr_ports': 1, 'n_banks': 1, 'latency': '5ns'}\n",
      "Info: Calculated \"metadata_storage_width\" = 4 \n",
      "Info: Calculated \"log(data_storage_depth)\" = 0 \n",
      "Info: Calculated \"n_banks\" = 1 \n",
      "Info: estimator plug-in identified by:  /usr/local/share/accelergy/estimation_plug_ins/accelergy-cacti-plug-in/cacti.estimator.yaml \n",
      "Info: estimator plug-in identified by:  /usr/local/share/accelergy/estimation_plug_ins/accelergy-table-based-plug-ins/table.estimator.yaml \n",
      "table-based-plug-ins Identifies a set of tables named:  test_tables\n",
      "Info: estimator plug-in identified by:  /usr/local/share/accelergy/estimation_plug_ins/accelergy-aladdin-plug-in/aladdin.estimator.yaml \n",
      "Info: estimator plug-in identified by:  /usr/local/share/accelergy/estimation_plug_ins/dummy_tables/dummy.estimator.yaml \n",
      "Info: CACTI plug-in... Querying CACTI for request:\n",
      " {'class_name': 'SRAM', 'attributes': {'spatial': True, 'depth': 32, 'width': 20, 'datawidth': 20, 'block_size': 1, 'technology': '45nm', 'meshX': 4, 'meshY': 4, 'n_rd_ports': 0, 'n_wr_ports': 0, 'n_rdwr_ports': 1, 'n_banks': 1, 'latency': '5ns'}, 'action_name': 'read', 'arguments': {'data_delta': 0, 'address_delta': 0}}\n",
      "WARN: CACTI Plug-in...  intended SRAM size is smaller than 64 words\n",
      "intended SRAM size: 80 block size: 4\n",
      "corrected SRAM size: 256\n",
      "copy  /usr/local/share/accelergy/estimation_plug_ins/accelergy-cacti-plug-in/default_SRAM.cfg  to  /usr/local/share/accelergy/estimation_plug_ins/accelergy-cacti-plug-in/cacti/05_03_18_46_42_SRAM.cfg\n",
      "CACTI plug-in removing temp file:  /usr/local/share/accelergy/estimation_plug_ins/accelergy-cacti-plug-in/cacti/05_03_18_46_42_SRAM.cfg\n",
      "Info: CACTI plug-in... Querying CACTI for request:\n",
      " {'class_name': 'SRAM', 'attributes': OrderedDict([('technology', '45nm'), ('width', 8), ('depth', 192), ('datawidth', 8), ('n_rdwr_ports', 2), ('n_banks', 1), ('n_rd_ports', 0), ('n_wr_ports', 0), ('latency', '5ns')]), 'action_name': 'write', 'arguments': None}\n",
      "WARN: CACTI Plug-in...  intended SRAM size is smaller than 64 words\n",
      "intended SRAM size: 192 block size: 4\n",
      "corrected SRAM size: 256\n",
      "copy  /usr/local/share/accelergy/estimation_plug_ins/accelergy-cacti-plug-in/default_SRAM.cfg  to  /usr/local/share/accelergy/estimation_plug_ins/accelergy-cacti-plug-in/cacti/05_03_18_46_42_SRAM.cfg\n",
      "CACTI plug-in removing temp file:  /usr/local/share/accelergy/estimation_plug_ins/accelergy-cacti-plug-in/cacti/05_03_18_46_42_SRAM.cfg\n",
      "Info: CACTI plug-in... Querying CACTI for request:\n",
      " {'class_name': 'SRAM', 'attributes': OrderedDict([('technology', '45nm'), ('width', 8), ('depth', 128), ('datawidth', 8), ('n_rd_ports', 0), ('n_wr_ports', 0), ('n_rdwr_ports', 1), ('n_banks', 1), ('latency', '5ns')]), 'action_name': 'read', 'arguments': None}\n",
      "WARN: CACTI Plug-in...  intended SRAM size is smaller than 64 words\n",
      "intended SRAM size: 128 block size: 4\n",
      "corrected SRAM size: 256\n",
      "copy  /usr/local/share/accelergy/estimation_plug_ins/accelergy-cacti-plug-in/default_SRAM.cfg  to  /usr/local/share/accelergy/estimation_plug_ins/accelergy-cacti-plug-in/cacti/05_03_18_46_42_SRAM.cfg\n",
      "CACTI plug-in removing temp file:  /usr/local/share/accelergy/estimation_plug_ins/accelergy-cacti-plug-in/cacti/05_03_18_46_42_SRAM.cfg\n",
      "Warn: No action counts are specified as yaml input \n",
      "Info: verbose flattened architecture is saved to: accelergy_temp/flattened_architecture_verbose.yaml \n",
      "Info: energy reference table is saved to: accelergy_temp/ERT.yaml \n",
      "Info: verbose energy reference table summary is saved to: accelergy_temp/ERT_summary_verbose.yaml \n",
      "Warn: no runtime energy estimations are generated... not generating energy_estimation.yaml \n",
      "Info: area reference table is saved to: accelergy_temp/ART.yaml \n",
      "Info: verbose area reference table summary is saved to: accelergy_temp/ART_summary_verbose.yaml \n",
      "Generated ERT file: ERT.yaml\n",
      "Generated ART file: ART.yaml\n"
     ]
    }
   ],
   "source": [
    "# Run Accelergy with the provided arguments\n",
    "result = run_accelergy(\n",
    "    architecture_yaml=architecture2,\n",
    "    component_yaml=component,\n",
    "    ERT_output_path=ERT_output_path,\n",
    "    ART_output_path=ART_output_path\n",
    ")\n",
    "\n",
    "print(f\"Generated ERT file: {result['ERT']}\")\n",
    "print(f\"Generated ART file: {result['ART']}\")"
   ]
  },
  {
   "cell_type": "code",
   "execution_count": 31,
   "id": "6f6d6fa5",
   "metadata": {},
   "outputs": [
    {
     "name": "stdout",
     "output_type": "stream",
     "text": [
      "['timeloop-mapper', '/home/workspace/2022.micro.artifact/experiments-matmul/arch3.yaml', '/home/workspace/2022.micro.artifact/experiments-matmul/matmul.yaml', 'SI-SW.yaml', '/home/workspace/2022.micro.artifact/experiments-matmul/constraints.yaml', '/home/workspace/2022.micro.artifact/experiments-matmul/mapper.yaml', '--ERT', 'ERT.yaml', '--ART', 'ART.yaml', '-o', 'timeloop_temp']\n",
      "  _______                __                \n",
      " /_  __(_)___ ___  ___  / /___  ____  ____ \n",
      "  / / / / __ `__ \\/ _ \\/ / __ \\/ __ \\/ __ \\\n",
      " / / / / / / / / /  __/ / /_/ / /_/ / /_/ /\n",
      "/_/ /_/_/ /_/ /_/\\___/_/\\____/\\____/ .___/ \n",
      "                                  /_/      \n",
      "\n",
      "Problem configuration complete.\n",
      "Warning: neither block size nor cluster size specified, set according to specified storage width: block size: 1  cluster-size: 1\n",
      "Found Accelergy ERT (energy reference table), replacing internal energy model.\n",
      "Found Accelergy ART (area reference table), replacing internal area model.\n",
      "Architecture configuration complete.\n",
      "Warning: BackingStorage: adjust representation format word bits from 7 to 8 to avoid storage fragmentation.\n",
      "Warning: weight_spad: adjust representation format word bits from 7 to 8 to avoid storage fragmentation.\n",
      "Sparse optimization configuration complete.\n",
      "Using threads = 4\n",
      "Mapper configuration complete.\n",
      "Initializing Index Factorization subspace.\n",
      "  Factorization options along problem dimension C = 1\n",
      "  Factorization options along problem dimension M = 11628\n",
      "  Factorization options along problem dimension N = 11628\n",
      "Mapspace Dimension [IndexFactorization] Size: 135210384\n",
      "Mapspace Dimension [LoopPermutation] Size: 1296\n",
      "Mapspace Dimension [Spatial] Size: 4\n",
      "Mapspace Dimension [DatatypeBypass] Size: 8\n",
      "Mapspace split! Per-split Mapping Dimension [IndexFactorization] Size: 33802596 Residue: 0\n",
      "Mapspace construction complete.\n",
      "Search configuration complete.\n"
     ]
    },
    {
     "name": "stderr",
     "output_type": "stream",
     "text": [
      "[  3] Utilization = 0.31 | pJ/Algorithmic-Compute =    0.001 | pJ/Compute = 30624.819 | L4[] M8 N256 N8X - L3[I] M128 - L2[W] N2 - L1[O] N4 M2 - L0[] M8 \n",
      "[  2] Utilization = 0.31 | pJ/Algorithmic-Compute =    0.001 | pJ/Compute = 30624.819 | L4[] M8 N256 N8X - L3[I] M128 - L2[W] N2 - L1[O] N4 - L0[] M16 \n",
      "[  1] Utilization = 0.62 | pJ/Algorithmic-Compute =    0.000 | pJ/Compute = 5375.292 | L4[] M128 N512 N16X - L3[I] N2 - L2[W] M4 - L1[O] N1 - L0[] M32 \n",
      "[  2] Utilization = 0.31 | pJ/Algorithmic-Compute =    0.001 | pJ/Compute = 23522.695 | L4[] M8 N256 N8X - L3[I] M128 - L2[W] N2 - L1[O] N4 - L0[I] M16 \n",
      "[  3] Utilization = 0.31 | pJ/Algorithmic-Compute =    0.001 | pJ/Compute = 23522.695 | L4[] M8 N256 N8X - L3[I] M128 - L2[W] N2 - L1[O] N4 M2 - L0[I] M8 \n",
      "[  1] Utilization = 0.62 | pJ/Algorithmic-Compute =    0.000 | pJ/Compute = 2184.616 | L4[] M128 N512 N16X - L3[I] N2 - L2[W] M4 - L1[O] N1 - L0[I] M32 \n",
      "[  2] Utilization = 0.62 | pJ/Algorithmic-Compute =    0.000 | pJ/Compute = 5375.292 | L4[] N512 M128 N16X - L3[I] N2 - L2[W] M4 - L1[O] M2 - L0[] M16 \n",
      "[  0] Utilization = 0.62 | pJ/Algorithmic-Compute =    0.000 | pJ/Compute = 12325.067 | L4[] N4096 M2 N2X M8X - L3[I] M16 - L2[W] N2 M2 - L1[O] M4 - L0[] M8 \n",
      "[  2] Utilization = 0.62 | pJ/Algorithmic-Compute =    0.000 | pJ/Compute = 2184.616 | L4[] N512 M128 N16X - L3[I] N2 - L2[W] M4 - L1[O] M2 - L0[I] M16 \n",
      "[  0] Utilization = 0.62 | pJ/Algorithmic-Compute =    0.000 | pJ/Compute = 9165.087 | L4[] N4096 M2 N2X M8X - L3[I] M16 - L2[W] N2 M2 - L1[O] M4 - L0[I] M8 \n",
      "[  3] Utilization = 0.62 | pJ/Algorithmic-Compute =    0.000 | pJ/Compute = 5375.292 | L4[] M128 N512 N16X - L3[I] N2 - L2[W] M4 - L1[O] M4 - L0[] M8 \n",
      "[  3] Utilization = 0.62 | pJ/Algorithmic-Compute =    0.000 | pJ/Compute = 2184.616 | L4[] M128 N512 N16X - L3[I] N2 - L2[W] M4 - L1[O] M4 - L0[I] M8 \n",
      "[  1] STATEMENT: 10000 invalid mappings (9255 fanout, 745 capacity) found since the last valid mapping, terminating search.\n",
      "[  2] STATEMENT: 10000 invalid mappings (9258 fanout, 742 capacity) found since the last valid mapping, terminating search.\n",
      "[  0] Utilization = 0.12 | pJ/Algorithmic-Compute =    0.000 | pJ/Compute = 2283.346 | L4[] N1024 M4 N2X - L3[I] M64 N8 - L2[W] M2 - L1[O] N1 - L0[I] M32 \n",
      "[  0] Utilization = 0.12 | pJ/Algorithmic-Compute =    0.000 | pJ/Compute = 2155.201 | L4[] N1024 M4 N2X - L3[I] N8 M64 - L2[W] M2 - L1[O] N1 - L0[I] M32 \n",
      "[  3] STATEMENT: 10000 invalid mappings (9257 fanout, 743 capacity) found since the last valid mapping, terminating search.\n",
      "[  0] STATEMENT: 10000 invalid mappings (9254 fanout, 746 capacity) found since the last valid mapping, terminating search.\n",
      "2025-05-03 18:47:24,299 - timeloop_mapper - WARNING - No stats file found\n",
      "2025-05-03 18:47:24,305 - timeloop_mapper - INFO - Best mapping file found\n",
      "2025-05-03 18:47:24,308 - timeloop_mapper - WARNING - No energy reference file found\n"
     ]
    },
    {
     "name": "stdout",
     "output_type": "stream",
     "text": [
      "\n",
      "\n",
      "Summary stats for best mapping found by mapper:\n",
      "  Utilization = 0.12 | pJ/Algorithmic-Compute =    0.000 | pJ/Compute = 2155.201\n",
      "searched_mapping.yaml\n"
     ]
    }
   ],
   "source": [
    "# If you want mapper\n",
    "# Run Timeloop mapper with the provided arguments\n",
    "result = run_timeloop_mapper(\n",
    "    architecture_yaml=architecture2,\n",
    "    workload=workload,\n",
    "    sparse_opts=sparse_opts,\n",
    "    ERT=ERT_output_path,\n",
    "    ART=ART_output_path,\n",
    "    output_mapping_path=\"searched_mapping.yaml\",\n",
    "    mapper=mapper,\n",
    "    constraints=constraints\n",
    ")\n",
    "\n",
    "mapping_path = result[\"best_mapping\"]\n",
    "print(mapping_path)"
   ]
  },
  {
   "cell_type": "code",
   "execution_count": 32,
   "id": "2039683e",
   "metadata": {},
   "outputs": [
    {
     "name": "stdout",
     "output_type": "stream",
     "text": [
      "Running Timeloop:\n",
      "timeloop-model /home/workspace/2022.micro.artifact/experiments-matmul/arch3.yaml /home/workspace/2022.micro.artifact/experiments-matmul/matmul.yaml searched_mapping.yaml SI-SW.yaml --ERT ERT.yaml --ART ART.yaml -o timeloop_output_test_3\n",
      "Timeloop completed successfully.\n"
     ]
    }
   ],
   "source": [
    "# If you already have mapping\n",
    "output_path = run_timeloop(\n",
    "    arch_yaml=architecture2,\n",
    "    workload=workload,\n",
    "    sparse_opts=sparse_opts,\n",
    "    mapping=mapping_path,\n",
    "    constraints=constraints,\n",
    "    mapper=mapper,\n",
    "    ert_path=ERT_output_path,\n",
    "    art_path=ART_output_path,\n",
    "    output_dir=\"timeloop_output_test_3\"\n",
    ")"
   ]
  },
  {
   "cell_type": "code",
   "execution_count": 33,
   "id": "ee6c1dff",
   "metadata": {
    "scrolled": true
   },
   "outputs": [
    {
     "name": "stdout",
     "output_type": "stream",
     "text": [
      "MAC\n",
      "{'energy': 888.6777199999999, 'utilization': 0.125}\n",
      "reg\n",
      "{'energy': 3539.808, 'storage_access_energy': 3539.808, 'read_energy': 3538.9439999999995, 'temporal_add_energy': 0.0, 'spatial_add_energy': 0.0, 'address_generation_energy': 0.0, 'network_energy': 0.0, 'energy_per_access_per_instance': array([  nan, 0.072,   nan]), 'actual_reads_per_instance': array([        0, 134217728,         0]), 'actual_updates_per_instance': array([0, 0, 0]), 'actual_fills_per_instance': array([    0, 32768,     0]), 'actual_accesses_per_instance': array([        0, 134250496,         0]), 'instances': array([2.00000000e+00, 3.66210938e-04, 2.00000000e+00]), 'utilization': 2.288818359375e-05, 'multicast': array([1, 1, 1]), 'dist_multicast': array([0, 0, 0]), 'num_hops': array([0.5, 0.5, 0.5]), 'ingresses': 0, 'energy_per_hop_per_instance': array([0., 0., 0.])}\n",
      "psum_spad\n",
      "{'energy': 5379.92404, 'storage_access_energy': 5379.92404, 'read_energy': 2391.077351111111, 'temporal_add_energy': 0.0, 'spatial_add_energy': 0.0, 'address_generation_energy': 0.0, 'network_energy': 0.0, 'energy_per_access_per_instance': array([         nan,          nan, 298.88466889]), 'actual_reads_per_instance': array([0, 0, 4]), 'actual_updates_per_instance': array([0, 0, 5]), 'actual_fills_per_instance': array([0, 0, 0]), 'actual_accesses_per_instance': array([0, 0, 9]), 'instances': array([2., 2., 2.]), 'utilization': 0.125, 'multicast': array([1, 1, 1]), 'dist_multicast': array([0, 0, 0]), 'num_hops': array([0.5, 0.5, 0.5]), 'ingresses': 0, 'energy_per_hop_per_instance': array([0., 0., 0.])}\n",
      "weight_spad\n",
      "{'energy': 11724.12236, 'storage_access_energy': 11724.12236, 'read_energy': 11724.12236, 'temporal_add_energy': 0.0, 'spatial_add_energy': 0.0, 'address_generation_energy': 0.0, 'network_energy': 0.0, 'energy_per_access_per_instance': array([1172.412236,         nan,    0.      ]), 'actual_reads_per_instance': array([5, 0, 0]), 'actual_updates_per_instance': array([0, 0, 0]), 'actual_fills_per_instance': array([0, 0, 0]), 'actual_accesses_per_instance': array([5, 0, 0]), 'instances': array([2., 2., 0.]), 'utilization': 0.041666666666666664, 'multicast': array([1, 1, 0]), 'dist_multicast': array([0, 0, 0]), 'num_hops': array([0.5, 0.5, 0. ]), 'ingresses': 0, 'energy_per_hop_per_instance': array([0., 0., 0.])}\n",
      "iact_spad\n",
      "{'energy': 19.48116, 'storage_access_energy': 19.48116, 'read_energy': 19.48116, 'temporal_add_energy': 0.0, 'spatial_add_energy': 0.0, 'address_generation_energy': 0.0, 'network_energy': 0.0, 'energy_per_access_per_instance': array([0.     , 1.62343, 0.     ]), 'actual_reads_per_instance': array([0, 6, 0]), 'actual_updates_per_instance': array([0, 0, 0]), 'actual_fills_per_instance': array([0, 0, 0]), 'actual_accesses_per_instance': array([0, 6, 0]), 'instances': array([0., 2., 0.]), 'utilization': 0.0234375, 'multicast': array([0, 1, 0]), 'dist_multicast': array([0, 0, 0]), 'num_hops': array([0. , 0.5, 0. ]), 'ingresses': 0, 'energy_per_hop_per_instance': array([0., 0., 0.])}\n",
      "BackingStorage\n",
      "{'energy': 0.0, 'storage_access_energy': 0.0, 'read_energy': 0.0, 'temporal_add_energy': 0.0, 'spatial_add_energy': 0.0, 'address_generation_energy': 0.0, 'network_energy': 0.0, 'energy_per_access_per_instance': array([0., 0., 0.]), 'actual_reads_per_instance': array([0, 0, 0]), 'actual_updates_per_instance': array([0, 0, 0]), 'actual_fills_per_instance': array([0, 0, 0]), 'actual_accesses_per_instance': array([0, 0, 0]), 'instances': array([0., 0., 0.]), 'utilization': 0, 'multicast': array([0, 0, 0]), 'dist_multicast': array([0, 0, 0]), 'num_hops': array([0., 0., 0.]), 'ingresses': 0, 'energy_per_hop_per_instance': array([0., 0., 0.])}\n"
     ]
    },
    {
     "data": {
      "image/png": "[encoded data removed]",
      "text/plain": [
       "<Figure size 864x432 with 1 Axes>"
      ]
     },
     "metadata": {
      "needs_background": "light"
     },
     "output_type": "display_data"
    }
   ],
   "source": [
    "# Plot output\n",
    "output = parse_timeloop_stats(\"timeloop_output_test_3/timeloop-model.map+stats.xml\")\n",
    "plot_read_write_energy(output[\"energy_breakdown_pJ\"])"
   ]
  },
  {
   "cell_type": "code",
   "execution_count": null,
   "id": "01956479",
   "metadata": {},
   "outputs": [],
   "source": [
    "# # Run Accelergy with the provided arguments\n",
    "# result = run_accelergy(\n",
    "#     architecture_yaml=architecture2,\n",
    "#     component_yaml=component,\n",
    "#     ERT_output_path=ERT_output_path,\n",
    "#     ART_output_path=ART_output_path\n",
    "# )\n",
    "\n",
    "# print(f\"Generated ERT file: {result['ERT']}\")\n",
    "# print(f\"Generated ART file: {result['ART']}\")"
   ]
  },
  {
   "cell_type": "code",
   "execution_count": null,
   "id": "b99cf161",
   "metadata": {},
   "outputs": [],
   "source": [
    "# # If you want mapper\n",
    "# # Run Timeloop mapper with the provided arguments\n",
    "# result = run_timeloop_mapper(\n",
    "#     architecture_yaml=architecture2,\n",
    "#     workload=workload,\n",
    "#     sparse_opts=sparse_opts,\n",
    "#     ERT=ERT_output_path,\n",
    "#     ART=ART_output_path,\n",
    "#     output_mapping_path=\"searched_mapping.yaml\",\n",
    "#     mapper=mapper,\n",
    "#     constraints=constraints\n",
    "# )\n",
    "\n",
    "# mapping_path = result[\"best_mapping\"]"
   ]
  },
  {
   "cell_type": "code",
   "execution_count": null,
   "id": "ebf7deef",
   "metadata": {},
   "outputs": [],
   "source": [
    "# # If you already have mapping\n",
    "# output_path = run_timeloop(\n",
    "#     arch_yaml=architecture2,\n",
    "#     workload=workload,\n",
    "#     sparse_opts=sparse_opts,\n",
    "#     mapping=mapping_path,\n",
    "#     constraints=constraints,\n",
    "#     mapper=mapper,\n",
    "#     ert_path=ERT_output_path,\n",
    "#     art_path=ART_output_path,\n",
    "#     output_dir=\"timeloop_output_test_3\"\n",
    "# )"
   ]
  },
  {
   "cell_type": "code",
   "execution_count": null,
   "id": "8abaeeef",
   "metadata": {},
   "outputs": [],
   "source": [
    "# # Plot output\n",
    "# output = parse_timeloop_stats(\"timeloop_output_test_3/timeloop-model.map+stats.xml\")\n",
    "# plot_read_write_energy(output[\"energy_breakdown_pJ\"])"
   ]
  }
 ],
 "metadata": {
  "kernelspec": {
   "display_name": "Python 3 (ipykernel)",
   "language": "python",
   "name": "python3"
  },
  "language_info": {
   "codemirror_mode": {
    "name": "ipython",
    "version": 3
   },
   "file_extension": ".py",
   "mimetype": "text/x-python",
   "name": "python",
   "nbconvert_exporter": "python",
   "pygments_lexer": "ipython3",
   "version": "3.8.13"
  }
 },
 "nbformat": 4,
 "nbformat_minor": 5
}
