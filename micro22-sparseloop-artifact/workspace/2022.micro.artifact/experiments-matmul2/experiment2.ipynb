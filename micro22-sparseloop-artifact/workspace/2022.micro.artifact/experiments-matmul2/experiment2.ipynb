{
 "cells": [
  {
   "cell_type": "code",
   "execution_count": 1,
   "id": "40a40d45",
   "metadata": {},
   "outputs": [
    {
     "name": "stdout",
     "output_type": "stream",
     "text": [
      "/home/workspace/2022.micro.artifact/experiments-matmul2\n"
     ]
    }
   ],
   "source": [
    "from helpers import *\n",
    "import os\n",
    "print(os.getcwd())\n",
    "import time"
   ]
  },
  {
   "cell_type": "code",
   "execution_count": 2,
   "id": "a5ae5bef",
   "metadata": {},
   "outputs": [],
   "source": [
    "verbose = True\n",
    "architecture = \"/home/workspace/2022.micro.artifact/experiments-matmul2/arch.yaml\"\n",
    "architecture2 = \"/home/workspace/2022.micro.artifact/experiments-matmul2/arch3.yaml\"\n",
    "component = \"/home/workspace/2022.micro.artifact/experiments-matmul2/compound_components.yaml\"\n",
    "ERT_output_path = \"ERT.yaml\"\n",
    "ART_output_path = \"ART.yaml\"\n",
    "sparse_opts = \"/home/workspace/2022.micro.artifact/experiments-matmul2/SI-SW.yaml\"\n",
    "workload = \"/home/workspace/2022.micro.artifact/experiments-matmul2/matmul2.yaml\"\n",
    "mapper = \"/home/workspace/2022.micro.artifact/experiments-matmul2/mapper.yaml\"\n",
    "mapping = \"/home/workspace/2022.micro.artifact/experiments-matmul2/timeloop_temp/timeloop-mapper.map.yaml\"\n",
    "constraints = \"/home/workspace/2022.micro.artifact/experiments-matmul2/constraints.yaml\""
   ]
  },
  {
   "cell_type": "code",
   "execution_count": 3,
   "id": "fe9d7241",
   "metadata": {},
   "outputs": [
    {
     "name": "stdout",
     "output_type": "stream",
     "text": [
      "Running Accelergy command: accelergy /home/workspace/2022.micro.artifact/experiments-matmul2/arch3.yaml /home/workspace/2022.micro.artifact/experiments-matmul2/compound_components.yaml -o accelergy_temp -v 1\n",
      "    _                _                      \n",
      "   / \\   ___ ___ ___| | ___ _ __ __ _ _   _ \n",
      "  / _ \\ / __/ __/ _ \\ |/ _ \\ '__/ _` | | | |\n",
      " / ___ \\ (_| (_|  __/ |  __/ | | (_| | |_| |\n",
      "/_/   \\_\\___\\___\\___|_|\\___|_|  \\__, |\\__, |\n",
      "                                |___/ |___/ \n",
      "\n",
      "Info: generating outputs according to the following specified output flags... \n",
      " Please use the -f flag to update the preference (default to all output files) \n",
      "{'ERT': 1, 'ERT_summary': 1, 'ART': 1, 'ART_summary': 1, 'energy_estimation': 1, 'flattened_arch': 1}\n",
      "Info: config file located: /home/workspace/.config/accelergy/accelergy_config.yaml \n",
      "config file content: \n",
      " {'version': 0.3, 'compound_components': [], 'estimator_plug_ins': ['/usr/local/share/accelergy/estimation_plug_ins'], 'primitive_components': ['/usr/local/share/accelergy/primitive_component_libs'], 'table_plug_ins': {'roots': ['/usr/local/share/accelergy/estimation_plug_ins/accelergy-table-based-plug-ins/set_of_table_templates']}}\n",
      "Info: Parsing file /home/workspace/2022.micro.artifact/experiments-matmul2/arch3.yaml for architecture info \n",
      "Info: Found non-numeric expression 45nm. Available bindings: {'technology': '45nm'} \n",
      "WARN: Failed to evaluate \"45nm\". Setting system.technology=\"45nm\". Available bindings: {'technology': '45nm'}\n",
      "Info: Found non-numeric expression HBM2. Available bindings: {'spatial': False, 'instances': 1, 'type': 'HBM2', 'width': 256, 'block-size': 16, 'word-bits': 16, 'metadata_storage_width': 16, 'technology': '45nm'} \n",
      "WARN: Failed to evaluate \"HBM2\". Setting variables.type=\"HBM2\". Available bindings: {'name': 'BackingStorage', 'class': 'DRAM', 'subclass': 'DRAM', 'attributes': {'spatial': False, 'instances': 1, 'type': 'HBM2', 'width': 256, 'block-size': 16, 'word-bits': 16, 'metadata_storage_width': 16, 'technology': '45nm'}}\n",
      "Info: Parsing file /home/workspace/2022.micro.artifact/experiments-matmul2/compound_components.yaml for compound_components info \n",
      "Info: primitive component file parsed:  /usr/local/share/accelergy/primitive_component_libs/pim_primitive_component.lib.yaml \n",
      "Info: primitive component file parsed:  /usr/local/share/accelergy/primitive_component_libs/soc_primitives.lib.yaml \n",
      "Info: primitive component file parsed:  /usr/local/share/accelergy/primitive_component_libs/primitive_component.lib.yaml \n",
      "Info: Calculated \"data_storage_width\" = 8 \n",
      "Info: Calculated \"metadata_storage_width\" = 4 \n",
      "Info: Calculated \"log(data_storage_depth)\" = 2.772588722239781 \n",
      "Info: Calculated \"metadata_storage_width\" = 8 \n",
      "Info: Calculated \"log(data_storage_depth)\" = 5.2574953720277815 \n",
      "Info: Found non-numeric expression 5ns. Available bindings: {'spatial': True, 'depth': 32, 'width': 20, 'datawidth': 20, 'block_size': 1, 'technology': '45nm', 'meshX': 4, 'meshY': 4, 'n_rd_ports': 0, 'n_wr_ports': 0, 'n_rdwr_ports': 1, 'n_banks': 1, 'latency': '5ns'} \n",
      "WARN: Failed to evaluate \"5ns\". Setting system.PE[0..15].psum_spad.latency=\"5ns\". Available bindings: {'spatial': True, 'depth': 32, 'width': 20, 'datawidth': 20, 'block_size': 1, 'technology': '45nm', 'meshX': 4, 'meshY': 4, 'n_rd_ports': 0, 'n_wr_ports': 0, 'n_rdwr_ports': 1, 'n_banks': 1, 'latency': '5ns'}\n",
      "Info: Calculated \"metadata_storage_width\" = 4 \n",
      "Info: Calculated \"log(data_storage_depth)\" = 0 \n",
      "Info: Calculated \"n_banks\" = 1 \n",
      "Info: estimator plug-in identified by:  /usr/local/share/accelergy/estimation_plug_ins/accelergy-cacti-plug-in/cacti.estimator.yaml \n",
      "Info: estimator plug-in identified by:  /usr/local/share/accelergy/estimation_plug_ins/accelergy-aladdin-plug-in/aladdin.estimator.yaml \n",
      "Info: estimator plug-in identified by:  /usr/local/share/accelergy/estimation_plug_ins/dummy_tables/dummy.estimator.yaml \n",
      "Info: estimator plug-in identified by:  /usr/local/share/accelergy/estimation_plug_ins/accelergy-table-based-plug-ins/table.estimator.yaml \n",
      "table-based-plug-ins Identifies a set of tables named:  test_tables\n",
      "Info: CACTI plug-in... Querying CACTI for request:\n",
      " {'class_name': 'SRAM', 'attributes': {'spatial': True, 'depth': 32, 'width': 20, 'datawidth': 20, 'block_size': 1, 'technology': '45nm', 'meshX': 4, 'meshY': 4, 'n_rd_ports': 0, 'n_wr_ports': 0, 'n_rdwr_ports': 1, 'n_banks': 1, 'latency': '5ns'}, 'action_name': 'read', 'arguments': {'data_delta': 0, 'address_delta': 0}}\n",
      "WARN: CACTI Plug-in...  intended SRAM size is smaller than 64 words\n",
      "intended SRAM size: 80 block size: 4\n",
      "corrected SRAM size: 256\n",
      "copy  /usr/local/share/accelergy/estimation_plug_ins/accelergy-cacti-plug-in/default_SRAM.cfg  to  /usr/local/share/accelergy/estimation_plug_ins/accelergy-cacti-plug-in/cacti/05_06_00_58_15_SRAM.cfg\n",
      "CACTI plug-in removing temp file:  /usr/local/share/accelergy/estimation_plug_ins/accelergy-cacti-plug-in/cacti/05_06_00_58_15_SRAM.cfg\n",
      "Info: CACTI plug-in... Querying CACTI for request:\n",
      " {'class_name': 'SRAM', 'attributes': OrderedDict([('technology', '45nm'), ('width', 8), ('depth', 192), ('datawidth', 8), ('n_rdwr_ports', 2), ('n_banks', 1), ('n_rd_ports', 0), ('n_wr_ports', 0), ('latency', '5ns')]), 'action_name': 'write', 'arguments': None}\n",
      "WARN: CACTI Plug-in...  intended SRAM size is smaller than 64 words\n",
      "intended SRAM size: 192 block size: 4\n",
      "corrected SRAM size: 256\n",
      "copy  /usr/local/share/accelergy/estimation_plug_ins/accelergy-cacti-plug-in/default_SRAM.cfg  to  /usr/local/share/accelergy/estimation_plug_ins/accelergy-cacti-plug-in/cacti/05_06_00_58_15_SRAM.cfg\n",
      "CACTI plug-in removing temp file:  /usr/local/share/accelergy/estimation_plug_ins/accelergy-cacti-plug-in/cacti/05_06_00_58_15_SRAM.cfg\n",
      "Info: CACTI plug-in... Querying CACTI for request:\n",
      " {'class_name': 'SRAM', 'attributes': OrderedDict([('technology', '45nm'), ('width', 8), ('depth', 128), ('datawidth', 8), ('n_rd_ports', 0), ('n_wr_ports', 0), ('n_rdwr_ports', 1), ('n_banks', 1), ('latency', '5ns')]), 'action_name': 'read', 'arguments': None}\n",
      "WARN: CACTI Plug-in...  intended SRAM size is smaller than 64 words\n",
      "intended SRAM size: 128 block size: 4\n",
      "corrected SRAM size: 256\n",
      "copy  /usr/local/share/accelergy/estimation_plug_ins/accelergy-cacti-plug-in/default_SRAM.cfg  to  /usr/local/share/accelergy/estimation_plug_ins/accelergy-cacti-plug-in/cacti/05_06_00_58_16_SRAM.cfg\n",
      "CACTI plug-in removing temp file:  /usr/local/share/accelergy/estimation_plug_ins/accelergy-cacti-plug-in/cacti/05_06_00_58_16_SRAM.cfg\n",
      "Warn: No action counts are specified as yaml input \n",
      "Info: verbose flattened architecture is saved to: accelergy_temp/flattened_architecture_verbose.yaml \n",
      "Info: energy reference table is saved to: accelergy_temp/ERT.yaml \n",
      "Info: verbose energy reference table summary is saved to: accelergy_temp/ERT_summary_verbose.yaml \n",
      "Warn: no runtime energy estimations are generated... not generating energy_estimation.yaml \n",
      "Info: area reference table is saved to: accelergy_temp/ART.yaml \n",
      "Info: verbose area reference table summary is saved to: accelergy_temp/ART_summary_verbose.yaml \n",
      "Generated ERT file: ERT.yaml\n",
      "Generated ART file: ART.yaml\n"
     ]
    }
   ],
   "source": [
    "# Run Accelergy with the provided arguments\n",
    "result = run_accelergy(\n",
    "    architecture_yaml=architecture2,\n",
    "    component_yaml=component,\n",
    "    ERT_output_path=ERT_output_path,\n",
    "    ART_output_path=ART_output_path\n",
    ")\n",
    "\n",
    "print(f\"Generated ERT file: {result['ERT']}\")\n",
    "print(f\"Generated ART file: {result['ART']}\")"
   ]
  },
  {
   "cell_type": "code",
   "execution_count": 4,
   "id": "6f6d6fa5",
   "metadata": {},
   "outputs": [
    {
     "name": "stdout",
     "output_type": "stream",
     "text": [
      "['timeloop-mapper', '/home/workspace/2022.micro.artifact/experiments-matmul2/arch3.yaml', '/home/workspace/2022.micro.artifact/experiments-matmul2/matmul2.yaml', '/home/workspace/2022.micro.artifact/experiments-matmul2/SI-SW.yaml', '/home/workspace/2022.micro.artifact/experiments-matmul2/constraints.yaml', '/home/workspace/2022.micro.artifact/experiments-matmul2/mapper.yaml', '--ERT', 'ERT.yaml', '--ART', 'ART.yaml', '-o', 'timeloop_temp']\n",
      "  _______                __                \n",
      " /_  __(_)___ ___  ___  / /___  ____  ____ \n",
      "  / / / / __ `__ \\/ _ \\/ / __ \\/ __ \\/ __ \\\n",
      " / / / / / / / / /  __/ / /_/ / /_/ / /_/ /\n",
      "/_/ /_/_/ /_/ /_/\\___/_/\\____/\\____/ .___/ \n",
      "                                  /_/      \n",
      "\n",
      "INFO: Banded distribution interpreted density: total nnzs: 16384  density: 6.10352e-05\n",
      "Problem configuration complete.\n",
      "Warning: neither block size nor cluster size specified, set according to specified storage width: block size: 1  cluster-size: 1\n",
      "Found Accelergy ERT (energy reference table), replacing internal energy model.\n",
      "Found Accelergy ART (area reference table), replacing internal area model.\n",
      "Architecture configuration complete.\n",
      "Warning: weight_spad: adjust representation format word bits from 7 to 8 to avoid storage fragmentation.\n",
      "Sparse optimization configuration complete.\n",
      "Using threads = 4\n",
      "Mapper configuration complete.\n",
      "Initializing Index Factorization subspace.\n",
      "  Factorization options along problem dimension C = 1\n",
      "  Factorization options along problem dimension M = 11628\n",
      "  Factorization options along problem dimension N = 11628\n",
      "Mapspace Dimension [IndexFactorization] Size: 135210384\n",
      "Mapspace Dimension [LoopPermutation] Size: 1296\n",
      "Mapspace Dimension [Spatial] Size: 4\n",
      "Mapspace Dimension [DatatypeBypass] Size: 8\n",
      "Mapspace split! Per-split Mapping Dimension [IndexFactorization] Size: 33802596 Residue: 0\n",
      "Mapspace construction complete.\n",
      "Search configuration complete.\n"
     ]
    },
    {
     "name": "stderr",
     "output_type": "stream",
     "text": [
      "[  0] Utilization = 0.25 | pJ/Algorithmic-Compute =    0.000 | pJ/Compute = 22319.811 | L4[] N256 M8 N8X - L3[I] M256 - L2[W] N2 M4 - L1[O] M2 N4 - L0[] N1 \n",
      "[  0] Utilization = 0.25 | pJ/Algorithmic-Compute =    0.000 | pJ/Compute = 21317.721 | L4[] N256 M8 N8X - L3[I] M256 - L2[W] N2 M4 - L1[O] M2 N4 - L0[O] N1 \n",
      "[  1] Utilization = 0.25 | pJ/Algorithmic-Compute =    0.000 | pJ/Compute = 22319.811 | L4[] M8 N256 N8X - L3[I] M256 - L2[W] M8 N2 - L1[O] N4 - L0[] N1 \n",
      "[  1] Utilization = 0.25 | pJ/Algorithmic-Compute =    0.000 | pJ/Compute = 21147.278 | L4[] M8 N256 N8X - L3[I] M256 - L2[W] M8 N2 - L1[O] N4 - L0[O] N1 \n",
      "[  3] Utilization = 0.25 | pJ/Algorithmic-Compute =    0.001 | pJ/Compute = 38186.492 | L4[] M32 N256 M4X - L3[I] N16 M8 - L2[W] M8 - L1[O] N4 M2 - L0[] N1 \n",
      "[  3] Utilization = 0.25 | pJ/Algorithmic-Compute =    0.001 | pJ/Compute = 37249.461 | L4[] M32 N256 M4X - L3[I] N16 M8 - L2[W] M8 - L1[O] N4 M2 - L0[I] N1 \n",
      "[  2] Utilization = 0.25 | pJ/Algorithmic-Compute =    0.001 | pJ/Compute = 38186.492 | L4[] N256 M32 M4X - L3[I] M8 N16 - L2[W] M8 - L1[O] N4 - L0[] M2 \n",
      "[  3] Utilization = 0.25 | pJ/Algorithmic-Compute =    0.001 | pJ/Compute = 37184.329 | L4[] M32 N256 M4X - L3[I] M8 N16 - L2[W] M8 - L1[O] M2 N4 - L0[O] N1 \n",
      "[  2] Utilization = 0.25 | pJ/Algorithmic-Compute =    0.001 | pJ/Compute = 37249.461 | L4[] N256 M32 M4X - L3[I] M8 N16 - L2[W] M8 - L1[O] N4 - L0[I] M2 \n",
      "[  2] Utilization = 0.25 | pJ/Algorithmic-Compute =    0.000 | pJ/Compute = 22319.811 | L4[] M128 N2 N8X - L3[I] M16 N128 - L2[W] N1 - L1[O] N2 - L0[] N4 M8 \n",
      "[  3] Utilization = 0.25 | pJ/Algorithmic-Compute =    0.000 | pJ/Compute = 22319.811 | L4[] N2 M128 N8X - L3[I] M16 N128 - L2[W] N1 - L1[O] M2 N2 - L0[] N4 M4 \n",
      "[  2] Utilization = 0.25 | pJ/Algorithmic-Compute =    0.000 | pJ/Compute = 20914.477 | L4[] M2 N2 N4X M2X - L3[I] N256 M512 - L2[W] M2 N4 - L1[O] N2 - L0[I] M4 \n",
      "[  3] Utilization = 0.25 | pJ/Algorithmic-Compute =    0.000 | pJ/Compute = 20914.477 | L4[] N2 M2 N4X M2X - L3[I] N256 M512 - L2[W] M2 N4 - L1[O] N2 M2 - L0[I] M2 \n",
      "[  1] Utilization = 0.25 | pJ/Algorithmic-Compute =    0.000 | pJ/Compute = 20680.446 | L4[] M2 N2 N4X M2X - L3[I] M512 N256 - L2[W] N4 - L1[O] N2 M8 - L0[I] N1 \n",
      "[  0] Utilization = 0.25 | pJ/Algorithmic-Compute =    0.000 | pJ/Compute = 20680.446 | L4[] M2 N2 N4X M2X - L3[I] N256 M512 - L2[W] N4 - L1[O] N2 M4 - L0[I] M2 \n",
      "[  2] Utilization = 0.25 | pJ/Algorithmic-Compute =    0.000 | pJ/Compute = 20680.568 | L4[] M4 N2048 M8X - L3[I] M64 - L2[W] N8 - L1[O] M2 - L0[I] M4 \n",
      "[  2] Utilization = 0.25 | pJ/Algorithmic-Compute =    0.000 | pJ/Compute = 20679.601 | L4[] M2048 N2 N4X - L3[I] N256 - L2[W] N2 - L1[O] N4 - L0[I] M8 \n",
      "[  3] Utilization = 0.25 | pJ/Algorithmic-Compute =    0.000 | pJ/Compute = 20680.568 | L4[] M4 N2048 M8X - L3[I] M64 - L2[W] N8 - L1[O] M4 - L0[I] M2 \n",
      "[  3] Utilization = 0.25 | pJ/Algorithmic-Compute =    0.000 | pJ/Compute = 20679.601 | L4[] M2048 N2 N4X - L3[I] N256 - L2[W] N2 - L1[O] N4 M2 - L0[I] M4 \n",
      "[  2] Utilization = 0.25 | pJ/Algorithmic-Compute =    0.000 | pJ/Compute = 14754.049 | L4[] M256 N64 N8X M2X - L3[I] N8 M8 - L2[W] N2 M2 - L1[O] M2 - L0[] N2 \n",
      "[  2] Utilization = 0.25 | pJ/Algorithmic-Compute =    0.000 | pJ/Compute = 14083.824 | L4[] M256 N64 N8X M2X - L3[I] N8 M8 - L2[W] N2 M2 - L1[O] M2 - L0[O] N2 \n",
      "[  1] Utilization = 0.25 | pJ/Algorithmic-Compute =    0.000 | pJ/Compute = 14754.049 | L4[] M256 N64 N8X M2X - L3[I] M8 N8 - L2[W] N2 M2 - L1[O] N1 - L0[] N2 M2 \n",
      "[  3] Utilization = 0.25 | pJ/Algorithmic-Compute =    0.000 | pJ/Compute = 14754.049 | L4[] M256 N64 N8X M2X - L3[I] M8 N8 - L2[W] N2 M4 - L1[O] N1 - L0[] N2 \n",
      "[  3] Utilization = 0.25 | pJ/Algorithmic-Compute =    0.000 | pJ/Compute = 14083.824 | L4[] M256 N64 N8X M2X - L3[I] M8 N8 - L2[W] N2 M4 - L1[O] N1 - L0[O] N2 \n",
      "[  3] Utilization = 0.25 | pJ/Algorithmic-Compute =    0.000 | pJ/Compute = 13748.280 | L4[] M256 N64 N8X M2X - L3[I] M8 N8 - L2[W] M4 N2 - L1[O] N1 - L0[O] N2 \n",
      "[  0] Utilization = 0.25 | pJ/Algorithmic-Compute =    0.000 | pJ/Compute = 14754.049 | L4[] N64 M256 N8X M2X - L3[I] M8 N8 - L2[W] N2 - L1[O] M4 - L0[] N2 \n",
      "[  0] Utilization = 0.25 | pJ/Algorithmic-Compute =    0.000 | pJ/Compute = 14083.824 | L4[] N64 M256 N8X M2X - L3[I] M8 N8 - L2[W] N2 - L1[O] M4 - L0[O] N2 \n",
      "[  2] Utilization = 0.25 | pJ/Algorithmic-Compute =    0.000 | pJ/Compute = 13837.019 | L4[] M64 N4 N2X M8X - L3[I] N1024 M8 - L2[W] N1 - L1[O] N2 M4 - L0[I] N1 \n",
      "[  1] Utilization = 0.25 | pJ/Algorithmic-Compute =    0.000 | pJ/Compute = 14305.487 | L4[] M64 N4 N2X M8X - L3[I] N1024 M8 - L2[W] N1 - L1[O] M2 N2 - L0[I] M2 \n",
      "[  1] Utilization = 0.25 | pJ/Algorithmic-Compute =    0.000 | pJ/Compute = 13837.019 | L4[] M64 N4 N2X M8X - L3[I] N1024 M8 - L2[W] N1 - L1[O] N2 M2 - L0[I] M2 \n",
      "[  0] Utilization = 0.25 | pJ/Algorithmic-Compute =    0.000 | pJ/Compute = 13837.019 | L4[] M64 N4 N2X M8X - L3[I] M8 N1024 - L2[W] N1 - L1[O] N2 - L0[I] M4 \n",
      "[  1] Utilization = 0.25 | pJ/Algorithmic-Compute =    0.000 | pJ/Compute = 12313.099 | L4[] N128 M2 N4X M4X - L3[I] N16 M2048 - L2[W] N2 - L1[O] N1 - L0[] N1 \n",
      "[  1] Utilization = 0.25 | pJ/Algorithmic-Compute =    0.000 | pJ/Compute = 11642.875 | L4[] N128 M2 N4X M4X - L3[I] N16 M2048 - L2[W] N2 - L1[O] N1 - L0[O] N1 \n",
      "[  1] Utilization = 0.25 | pJ/Algorithmic-Compute =    0.000 | pJ/Compute = 11013.729 | L4[] M2 N128 N4X M4X - L3[I] M2048 N16 - L2[W] N2 - L1[O] N1 - L0[O] N1 \n",
      "[  3] Utilization = 0.25 | pJ/Algorithmic-Compute =    0.000 | pJ/Compute = 13347.148 | L4[] N16 M2 M8X - L3[I] N256 M256 - L2[W] N1 - L1[O] N4 - L0[I] M4 \n",
      "[  2] Utilization = 0.25 | pJ/Algorithmic-Compute =    0.000 | pJ/Compute = 13836.773 | L4[] N8 M256 N8X M2X - L3[I] N128 M8 - L2[W] N2 - L1[O] N1 - L0[I] M4 \n",
      "[  1] Utilization = 0.25 | pJ/Algorithmic-Compute =    0.000 | pJ/Compute = 10973.097 | L4[] M512 N4 N4X M4X - L3[I] M8 N512 - L2[W] N2 - L1[O] N1 - L0[O] N1 \n",
      "[  0] Utilization = 0.25 | pJ/Algorithmic-Compute =    0.000 | pJ/Compute = 11336.654 | L4[] N4 M512 N4X M4X - L3[I] N512 M4 - L2[W] N2 M2 - L1[O] N1 - L0[] N1 \n",
      "[  0] Utilization = 0.25 | pJ/Algorithmic-Compute =    0.000 | pJ/Compute = 10399.623 | L4[] N4 M512 N4X M4X - L3[I] N512 M4 - L2[W] N2 M2 - L1[O] N1 - L0[I] N1 \n",
      "[  2] Utilization = 0.25 | pJ/Algorithmic-Compute =    0.000 | pJ/Compute = 13749.596 | L4[] N512 M64 N4X M4X - L3[I] M16 N2 - L2[W] N1 - L1[O] M4 - L0[O] N4 \n",
      "[  2] Utilization = 0.06 | pJ/Algorithmic-Compute =    0.000 | pJ/Compute = 13346.364 | L4[] M4 N8 - L3[I] N512 M1024 - L2[W] N4 - L1[O] M2 - L0[I] M2 \n",
      "[  2] Utilization = 0.25 | pJ/Algorithmic-Compute =    0.000 | pJ/Compute = 12310.565 | L4[] M8 N2 N4X - L3[I] M1024 N2048 - L2[W] N1 - L1[O] N1 - L0[] M2 \n",
      "[  2] Utilization = 0.25 | pJ/Algorithmic-Compute =    0.000 | pJ/Compute = 11373.534 | L4[] M8 N2 N4X - L3[I] M1024 N2048 - L2[W] N1 - L1[O] N1 - L0[I] M2 \n",
      "[  2] Utilization = 0.25 | pJ/Algorithmic-Compute =    0.000 | pJ/Compute = 10575.305 | L4[] N2 M8 N4X - L3[I] N2048 M1024 - L2[W] N1 - L1[O] N1 - L0[I] M2 \n",
      "[  2] Utilization = 0.25 | pJ/Algorithmic-Compute =    0.000 | pJ/Compute = 10460.874 | L4[] N16 M32 N2X M2X - L3[I] N512 M128 - L2[W] N1 - L1[O] N1 - L0[I] M2 \n",
      "[  3] Utilization = 0.25 | pJ/Algorithmic-Compute =    0.000 | pJ/Compute = 12310.565 | L4[] N2 M8 N4X - L3[I] N2048 M1024 - L2[W] N1 - L1[O] M2 - L0[] N1 \n",
      "[  3] Utilization = 0.25 | pJ/Algorithmic-Compute =    0.000 | pJ/Compute = 10575.305 | L4[] N2 M8 N4X - L3[I] N2048 M1024 - L2[W] N1 - L1[O] M2 - L0[I] N1 \n",
      "[  1] Utilization = 0.25 | pJ/Algorithmic-Compute =    0.000 | pJ/Compute = 6451.974 | L4[] N16 M32 N2X M2X - L3[I] M256 N512 - L2[W] N1 - L1[O] N1 - L0[] N1 \n",
      "[  1] Utilization = 0.25 | pJ/Algorithmic-Compute =    0.000 | pJ/Compute = 5112.634 | L4[] N16 M32 N2X M2X - L3[I] M256 N512 - L2[W] N1 - L1[O] N1 - L0[O] N1 \n",
      "[  1] Utilization = 0.25 | pJ/Algorithmic-Compute =    0.000 | pJ/Compute = 4602.201 | L4[] N16 M32 N2X M2X - L3[I] N512 M256 - L2[W] N1 - L1[O] N1 - L0[I] N1 \n",
      "[  3] Utilization = 0.25 | pJ/Algorithmic-Compute =    0.000 | pJ/Compute = 10460.874 | L4[] M32 N16 N2X M2X - L3[I] N512 M128 - L2[W] N1 - L1[O] M2 - L0[I] N1 \n",
      "[  3] STATEMENT: 2500 valid mappings found, terminating search.\n",
      "[  0] STATEMENT: 2500 valid mappings found, terminating search.\n"
     ]
    },
    {
     "name": "stderr",
     "output_type": "stream",
     "text": [
      "[  1] STATEMENT: 2500 valid mappings found, terminating search.\n",
      "[  2] STATEMENT: 2500 valid mappings found, terminating search.\n",
      "2025-05-06 01:03:14,453 - timeloop_mapper - WARNING - No stats file found\n",
      "2025-05-06 01:03:14,466 - timeloop_mapper - INFO - Best mapping file found\n",
      "2025-05-06 01:03:14,469 - timeloop_mapper - WARNING - No energy reference file found\n"
     ]
    },
    {
     "name": "stdout",
     "output_type": "stream",
     "text": [
      "\n",
      "\n",
      "Summary stats for best mapping found by mapper:\n",
      "  Utilization = 0.25 | pJ/Algorithmic-Compute =    0.000 | pJ/Compute = 4602.201\n",
      "searched_mapping.yaml\n"
     ]
    }
   ],
   "source": [
    "# If you want mapper\n",
    "# Run Timeloop mapper with the provided arguments\n",
    "result = run_timeloop_mapper(\n",
    "    architecture_yaml=architecture2,\n",
    "    workload=workload,\n",
    "    sparse_opts=sparse_opts,\n",
    "    ERT=ERT_output_path,\n",
    "    ART=ART_output_path,\n",
    "    output_mapping_path=\"searched_mapping.yaml\",\n",
    "    mapper=mapper,\n",
    "    constraints=constraints\n",
    ")\n",
    "\n",
    "mapping_path = result[\"best_mapping\"]\n",
    "print(mapping_path)"
   ]
  },
  {
   "cell_type": "code",
   "execution_count": 5,
   "id": "2039683e",
   "metadata": {},
   "outputs": [
    {
     "name": "stdout",
     "output_type": "stream",
     "text": [
      "Running Timeloop:\n",
      "timeloop-model /home/workspace/2022.micro.artifact/experiments-matmul2/arch3.yaml /home/workspace/2022.micro.artifact/experiments-matmul2/matmul2.yaml searched_mapping.yaml /home/workspace/2022.micro.artifact/experiments-matmul2/SI-SW.yaml --ERT ERT.yaml --ART ART.yaml -o timeloop_output_test_3\n",
      "Total time:  0.15624356269836426\n",
      "Timeloop completed successfully.\n"
     ]
    }
   ],
   "source": [
    "# If you already have mapping\n",
    "mapping_path = \"searched_mapping.yaml\"\n",
    "\n",
    "output_path = run_timeloop(\n",
    "    arch_yaml=architecture2,\n",
    "    workload=workload,\n",
    "    sparse_opts=sparse_opts,\n",
    "    mapping=mapping_path,\n",
    "    constraints=constraints,\n",
    "    mapper=mapper,\n",
    "    ert_path=ERT_output_path,\n",
    "    art_path=ART_output_path,\n",
    "    output_dir=\"timeloop_output_test_3\"\n",
    ")"
   ]
  },
  {
   "cell_type": "code",
   "execution_count": 6,
   "id": "ee6c1dff",
   "metadata": {
    "scrolled": true
   },
   "outputs": [
    {
     "name": "stdout",
     "output_type": "stream",
     "text": [
      "dict_keys(['MAC', 'reg', 'psum_spad', 'weight_spad', 'iact_spad', 'BackingStorage'])\n",
      "['MAC', 'reg', 'psum_spad', 'weight_spad', 'iact_spad', 'BackingStorage']\n"
     ]
    },
    {
     "data": {
      "image/png": "[encoded data removed]",
      "text/plain": [
       "<Figure size 864x432 with 1 Axes>"
      ]
     },
     "metadata": {
      "needs_background": "light"
     },
     "output_type": "display_data"
    }
   ],
   "source": [
    "# Plot output\n",
    "output = parse_timeloop_stats(\"timeloop_output_test_3/timeloop-model.map+stats.xml\")\n",
    "print(output['energy_breakdown_pJ'].keys())\n",
    "plot_read_write_energy(output[\"energy_breakdown_pJ\"])"
   ]
  },
  {
   "cell_type": "code",
   "execution_count": 7,
   "id": "a2d1d547",
   "metadata": {},
   "outputs": [
    {
     "name": "stdout",
     "output_type": "stream",
     "text": [
      "['MAC', 'reg', 'psum_spad', 'weight_spad', 'iact_spad', 'BackingStorage']\n"
     ]
    },
    {
     "data": {
      "image/png": "[encoded data removed]",
      "text/plain": [
       "<Figure size 864x432 with 1 Axes>"
      ]
     },
     "metadata": {
      "needs_background": "light"
     },
     "output_type": "display_data"
    }
   ],
   "source": [
    "# Plot output\n",
    "output = parse_timeloop_stats(\"timeloop_output_test_3/timeloop-model.map+stats.xml\")\n",
    "plot_read_write_energy(output[\"energy_breakdown_pJ\"])"
   ]
  },
  {
   "cell_type": "code",
   "execution_count": null,
   "id": "01956479",
   "metadata": {},
   "outputs": [],
   "source": [
    "# Run Accelergy with the provided arguments\n",
    "result = run_accelergy(\n",
    "    architecture_yaml=architecture2,\n",
    "    component_yaml=component,\n",
    "    ERT_output_path=ERT_output_path,\n",
    "    ART_output_path=ART_output_path\n",
    ")\n",
    "\n",
    "print(f\"Generated ERT file: {result['ERT']}\")\n",
    "print(f\"Generated ART file: {result['ART']}\")"
   ]
  },
  {
   "cell_type": "code",
   "execution_count": null,
   "id": "b99cf161",
   "metadata": {},
   "outputs": [],
   "source": [
    "# If you want mapper\n",
    "# Run Timeloop mapper with the provided arguments\n",
    "result = run_timeloop_mapper(\n",
    "    architecture_yaml=architecture2,\n",
    "    workload=workload,\n",
    "    sparse_opts=sparse_opts,\n",
    "    ERT=ERT_output_path,\n",
    "    ART=ART_output_path,\n",
    "    output_mapping_path=\"searched_mapping.yaml\",\n",
    "    mapper=mapper,\n",
    "    constraints=constraints\n",
    ")\n",
    "\n",
    "mapping_path = result[\"best_mapping\"]"
   ]
  },
  {
   "cell_type": "code",
   "execution_count": null,
   "id": "ebf7deef",
   "metadata": {},
   "outputs": [],
   "source": [
    "# If you already have mapping\n",
    "# mapping_path = \"/home/workspace/2022.micro.artifact/experiments-maggie/custom_mapping.yaml\"\n",
    "output_path = run_timeloop(\n",
    "    arch_yaml=architecture2,\n",
    "    workload=workload,\n",
    "    sparse_opts=sparse_opts,\n",
    "    mapping=mapping_path,\n",
    "    constraints=constraints,\n",
    "    mapper=mapper,\n",
    "    ert_path=ERT_output_path,\n",
    "    art_path=ART_output_path,\n",
    "    output_dir=\"timeloop_output_test_3\"\n",
    ")"
   ]
  },
  {
   "cell_type": "code",
   "execution_count": null,
   "id": "8abaeeef",
   "metadata": {},
   "outputs": [],
   "source": [
    "# Plot output\n",
    "output = parse_timeloop_stats(\"timeloop_output_test_3/timeloop-model.map+stats.xml\")\n",
    "plot_read_write_energy(output[\"energy_breakdown_pJ\"])"
   ]
  },
  {
   "cell_type": "code",
   "execution_count": null,
   "id": "2d9516ea",
   "metadata": {},
   "outputs": [],
   "source": []
  },
  {
   "cell_type": "code",
   "execution_count": null,
   "id": "2085f5ab",
   "metadata": {},
   "outputs": [],
   "source": []
  },
  {
   "cell_type": "code",
   "execution_count": null,
   "id": "1c610098",
   "metadata": {},
   "outputs": [],
   "source": []
  }
 ],
 "metadata": {
  "kernelspec": {
   "display_name": "Python 3 (ipykernel)",
   "language": "python",
   "name": "python3"
  },
  "language_info": {
   "codemirror_mode": {
    "name": "ipython",
    "version": 3
   },
   "file_extension": ".py",
   "mimetype": "text/x-python",
   "name": "python",
   "nbconvert_exporter": "python",
   "pygments_lexer": "ipython3",
   "version": "3.8.13"
  }
 },
 "nbformat": 4,
 "nbformat_minor": 5
}
