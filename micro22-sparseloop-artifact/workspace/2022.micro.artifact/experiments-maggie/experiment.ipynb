{
 "cells": [
  {
   "cell_type": "code",
   "execution_count": 1,
   "id": "40a40d45",
   "metadata": {},
   "outputs": [
    {
     "name": "stdout",
     "output_type": "stream",
     "text": [
      "/home/workspace/2022.micro.artifact/experiments-maggie\n"
     ]
    }
   ],
   "source": [
    "from helpers import *\n",
    "import os\n",
    "print(os.getcwd())"
   ]
  },
  {
   "cell_type": "code",
   "execution_count": 2,
   "id": "a5ae5bef",
   "metadata": {},
   "outputs": [],
   "source": [
    "verbose = True\n",
    "architecture = \"/home/workspace/2022.micro.artifact/experiments-maggie/arch.yaml\"\n",
    "architecture2 = \"/home/workspace/2022.micro.artifact/experiments-maggie/arch3.yaml\"\n",
    "component = \"/home/workspace/2022.micro.artifact/experiments-maggie/compound_components.yaml\"\n",
    "ERT_output_path = \"ERT.yaml\"\n",
    "ART_output_path = \"ART.yaml\"\n",
    "sparse_opts = \"SI-SW.yaml\"\n",
    "workload = \"/home/workspace/2022.micro.artifact/experiments-maggie/L07.yaml\"\n",
    "mapper = \"/home/workspace/2022.micro.artifact/experiments-maggie/mapper.yaml\"\n",
    "mapping = \"/home/workspace/2022.micro.artifact/experiments-maggie/timeloop_temp/timeloop-mapper.map.yaml\"\n",
    "constraints = \"/home/workspace/2022.micro.artifact/experiments-maggie/constraints.yaml\""
   ]
  },
  {
   "cell_type": "code",
   "execution_count": 3,
   "id": "fe9d7241",
   "metadata": {},
   "outputs": [
    {
     "name": "stdout",
     "output_type": "stream",
     "text": [
      "Running Accelergy command: accelergy /home/workspace/2022.micro.artifact/experiments-maggie/arch.yaml /home/workspace/2022.micro.artifact/experiments-maggie/compound_components.yaml -o accelergy_temp -v 1\n",
      "    _                _                      \n",
      "   / \\   ___ ___ ___| | ___ _ __ __ _ _   _ \n",
      "  / _ \\ / __/ __/ _ \\ |/ _ \\ '__/ _` | | | |\n",
      " / ___ \\ (_| (_|  __/ |  __/ | | (_| | |_| |\n",
      "/_/   \\_\\___\\___\\___|_|\\___|_|  \\__, |\\__, |\n",
      "                                |___/ |___/ \n",
      "\n",
      "Info: generating outputs according to the following specified output flags... \n",
      " Please use the -f flag to update the preference (default to all output files) \n",
      "{'ERT': 1, 'ERT_summary': 1, 'ART': 1, 'ART_summary': 1, 'energy_estimation': 1, 'flattened_arch': 1}\n",
      "Info: config file located: /home/workspace/.config/accelergy/accelergy_config.yaml \n",
      "config file content: \n",
      " {'version': 0.3, 'compound_components': [], 'estimator_plug_ins': ['/usr/local/share/accelergy/estimation_plug_ins'], 'primitive_components': ['/usr/local/share/accelergy/primitive_component_libs'], 'table_plug_ins': {'roots': ['/usr/local/share/accelergy/estimation_plug_ins/accelergy-table-based-plug-ins/set_of_table_templates']}}\n",
      "Info: Parsing file /home/workspace/2022.micro.artifact/experiments-maggie/arch.yaml for architecture info \n",
      "Info: Found non-numeric expression 45nm. Available bindings: {'technology': '45nm'} \n",
      "WARN: Failed to evaluate \"45nm\". Setting eyeriss_v2_PE.technology=\"45nm\". Available bindings: {'technology': '45nm'}\n",
      "Info: Found non-numeric expression HBM2. Available bindings: {'type': 'HBM2', 'width': 64, 'block_size': 8, 'datawidth': 8, 'metadata_storage_width': 8, 'technology': '45nm'} \n",
      "WARN: Failed to evaluate \"HBM2\". Setting variables.type=\"HBM2\". Available bindings: {'name': 'BackingStorage', 'class': 'DRAM', 'subclass': 'DRAM', 'attributes': {'type': 'HBM2', 'width': 64, 'block_size': 8, 'datawidth': 8, 'metadata_storage_width': 8, 'technology': '45nm'}}\n",
      "Info: Parsing file /home/workspace/2022.micro.artifact/experiments-maggie/compound_components.yaml for compound_components info \n",
      "Info: primitive component file parsed:  /usr/local/share/accelergy/primitive_component_libs/pim_primitive_component.lib.yaml \n",
      "Info: primitive component file parsed:  /usr/local/share/accelergy/primitive_component_libs/soc_primitives.lib.yaml \n",
      "Info: primitive component file parsed:  /usr/local/share/accelergy/primitive_component_libs/primitive_component.lib.yaml \n",
      "Info: Calculated \"data_storage_width\" = 8 \n",
      "Info: Calculated \"metadata_storage_width\" = 4 \n",
      "Info: Calculated \"log(data_storage_depth)\" = 2.772588722239781 \n",
      "Info: Calculated \"metadata_storage_width\" = 8 \n",
      "Info: Calculated \"log(data_storage_depth)\" = 5.2574953720277815 \n",
      "Info: Found non-numeric expression 5ns. Available bindings: {'depth': 32, 'width': 20, 'datawidth': 20, 'block_size': 1, 'technology': '45nm', 'n_rd_ports': 0, 'n_wr_ports': 0, 'n_rdwr_ports': 1, 'n_banks': 1, 'latency': '5ns'} \n",
      "WARN: Failed to evaluate \"5ns\". Setting eyeriss_v2_PE.PE.psum_spad.latency=\"5ns\". Available bindings: {'depth': 32, 'width': 20, 'datawidth': 20, 'block_size': 1, 'technology': '45nm', 'n_rd_ports': 0, 'n_wr_ports': 0, 'n_rdwr_ports': 1, 'n_banks': 1, 'latency': '5ns'}\n",
      "Info: Calculated \"metadata_storage_width\" = 4 \n",
      "Info: Calculated \"log(data_storage_depth)\" = 0 \n",
      "Info: Calculated \"n_banks\" = 1 \n",
      "Info: estimator plug-in identified by:  /usr/local/share/accelergy/estimation_plug_ins/accelergy-cacti-plug-in/cacti.estimator.yaml \n",
      "Info: estimator plug-in identified by:  /usr/local/share/accelergy/estimation_plug_ins/accelergy-aladdin-plug-in/aladdin.estimator.yaml \n",
      "Info: estimator plug-in identified by:  /usr/local/share/accelergy/estimation_plug_ins/dummy_tables/dummy.estimator.yaml \n",
      "Info: estimator plug-in identified by:  /usr/local/share/accelergy/estimation_plug_ins/accelergy-table-based-plug-ins/table.estimator.yaml \n",
      "table-based-plug-ins Identifies a set of tables named:  test_tables\n",
      "Info: CACTI plug-in... Querying CACTI for request:\n",
      " {'class_name': 'SRAM', 'attributes': {'depth': 32, 'width': 20, 'datawidth': 20, 'block_size': 1, 'technology': '45nm', 'n_rd_ports': 0, 'n_wr_ports': 0, 'n_rdwr_ports': 1, 'n_banks': 1, 'latency': '5ns'}, 'action_name': 'read', 'arguments': {'data_delta': 0, 'address_delta': 0}}\n",
      "WARN: CACTI Plug-in...  intended SRAM size is smaller than 64 words\n",
      "intended SRAM size: 80 block size: 4\n",
      "corrected SRAM size: 256\n",
      "copy  /usr/local/share/accelergy/estimation_plug_ins/accelergy-cacti-plug-in/default_SRAM.cfg  to  /usr/local/share/accelergy/estimation_plug_ins/accelergy-cacti-plug-in/cacti/04_24_20_26_59_SRAM.cfg\n",
      "CACTI plug-in removing temp file:  /usr/local/share/accelergy/estimation_plug_ins/accelergy-cacti-plug-in/cacti/04_24_20_26_59_SRAM.cfg\n",
      "Info: CACTI plug-in... Querying CACTI for request:\n",
      " {'class_name': 'SRAM', 'attributes': OrderedDict([('technology', '45nm'), ('width', 8), ('depth', 192), ('datawidth', 8), ('n_rdwr_ports', 2), ('n_banks', 1), ('n_rd_ports', 0), ('n_wr_ports', 0), ('latency', '5ns')]), 'action_name': 'write', 'arguments': None}\n",
      "WARN: CACTI Plug-in...  intended SRAM size is smaller than 64 words\n",
      "intended SRAM size: 192 block size: 4\n",
      "corrected SRAM size: 256\n",
      "copy  /usr/local/share/accelergy/estimation_plug_ins/accelergy-cacti-plug-in/default_SRAM.cfg  to  /usr/local/share/accelergy/estimation_plug_ins/accelergy-cacti-plug-in/cacti/04_24_20_26_59_SRAM.cfg\n",
      "CACTI plug-in removing temp file:  /usr/local/share/accelergy/estimation_plug_ins/accelergy-cacti-plug-in/cacti/04_24_20_26_59_SRAM.cfg\n",
      "Info: CACTI plug-in... Querying CACTI for request:\n",
      " {'class_name': 'SRAM', 'attributes': OrderedDict([('technology', '45nm'), ('width', 8), ('depth', 128), ('datawidth', 8), ('n_rd_ports', 0), ('n_wr_ports', 0), ('n_rdwr_ports', 1), ('n_banks', 1), ('latency', '5ns')]), 'action_name': 'read', 'arguments': None}\n",
      "WARN: CACTI Plug-in...  intended SRAM size is smaller than 64 words\n",
      "intended SRAM size: 128 block size: 4\n",
      "corrected SRAM size: 256\n",
      "copy  /usr/local/share/accelergy/estimation_plug_ins/accelergy-cacti-plug-in/default_SRAM.cfg  to  /usr/local/share/accelergy/estimation_plug_ins/accelergy-cacti-plug-in/cacti/04_24_20_26_59_SRAM.cfg\n",
      "CACTI plug-in removing temp file:  /usr/local/share/accelergy/estimation_plug_ins/accelergy-cacti-plug-in/cacti/04_24_20_26_59_SRAM.cfg\n",
      "Warn: No action counts are specified as yaml input \n",
      "Info: verbose flattened architecture is saved to: accelergy_temp/flattened_architecture_verbose.yaml \n",
      "Info: energy reference table is saved to: accelergy_temp/ERT.yaml \n",
      "Info: verbose energy reference table summary is saved to: accelergy_temp/ERT_summary_verbose.yaml \n",
      "Warn: no runtime energy estimations are generated... not generating energy_estimation.yaml \n",
      "Info: area reference table is saved to: accelergy_temp/ART.yaml \n",
      "Info: verbose area reference table summary is saved to: accelergy_temp/ART_summary_verbose.yaml \n",
      "Generated ERT file: ERT.yaml\n",
      "Generated ART file: ART.yaml\n"
     ]
    }
   ],
   "source": [
    "# Run Accelergy with the provided arguments\n",
    "result = run_accelergy(\n",
    "    architecture_yaml=architecture,\n",
    "    component_yaml=component,\n",
    "    ERT_output_path=ERT_output_path,\n",
    "    ART_output_path=ART_output_path\n",
    ")\n",
    "\n",
    "print(f\"Generated ERT file: {result['ERT']}\")\n",
    "print(f\"Generated ART file: {result['ART']}\")"
   ]
  },
  {
   "cell_type": "code",
   "execution_count": 4,
   "id": "6f6d6fa5",
   "metadata": {},
   "outputs": [
    {
     "name": "stdout",
     "output_type": "stream",
     "text": [
      "['timeloop-mapper', '/home/workspace/2022.micro.artifact/experiments-maggie/arch.yaml', '/home/workspace/2022.micro.artifact/experiments-maggie/L07.yaml', 'SI-SW.yaml', '/home/workspace/2022.micro.artifact/experiments-maggie/constraints.yaml', '/home/workspace/2022.micro.artifact/experiments-maggie/mapper.yaml', '--ERT', 'ERT.yaml', '--ART', 'ART.yaml', '-o', 'timeloop_temp']\n",
      "  _______                __                \n",
      " /_  __(_)___ ___  ___  / /___  ____  ____ \n",
      "  / / / / __ `__ \\/ _ \\/ / __ \\/ __ \\/ __ \\\n",
      " / / / / / / / / /  __/ / /_/ / /_/ / /_/ /\n",
      "/_/ /_/_/ /_/ /_/\\___/_/\\____/\\____/ .___/ \n",
      "                                  /_/      \n",
      "\n",
      "Problem configuration complete.\n",
      "Warning: neither block size nor cluster size specified, set according to specified storage width: block size: 1  cluster-size: 1\n",
      "Found Accelergy ERT (energy reference table), replacing internal energy model.\n",
      "Found Accelergy ART (area reference table), replacing internal area model.\n",
      "Architecture configuration complete.\n",
      "Warning: BackingStorage: adjust representation format word bits from 7 to 8 to avoid storage fragmentation.\n",
      "Warning: weight_spad: adjust representation format word bits from 7 to 8 to avoid storage fragmentation.\n",
      "Sparse optimization configuration complete.\n",
      "Using threads = 8\n",
      "Mapper configuration complete.\n",
      "Initializing Index Factorization subspace.\n",
      "  Factorization options along problem dimension R = 15\n",
      "  Factorization options along problem dimension S = 15\n",
      "  Factorization options along problem dimension E = 126\n",
      "  Factorization options along problem dimension F = 126\n",
      "  Factorization options along problem dimension C = 210\n",
      "  Factorization options along problem dimension M = 1365\n",
      "  Factorization options along problem dimension N = 15\n",
      "  Factorization options along problem dimension G = 15\n",
      "Mapspace Dimension [IndexFactorization] Size: 230387054625000\n",
      "Mapspace Dimension [LoopPermutation] Size: 2642908293365760000\n",
      "Mapspace Dimension [Spatial] Size: 1\n",
      "Mapspace Dimension [DatatypeBypass] Size: 4096\n",
      "Mapspace split! Per-split Mapping Dimension [IndexFactorization] Size: 28798381828125 Residue: 0\n",
      "Mapspace construction complete.\n",
      "Search configuration complete.\n"
     ]
    },
    {
     "name": "stderr",
     "output_type": "stream",
     "text": [
      "Interrupt caught. Mapper threads will terminate after completing any ongoing evaluations.\n",
      "[  1] STATEMENT: global termination flag activated, terminating search.\n"
     ]
    },
    {
     "ename": "KeyboardInterrupt",
     "evalue": "",
     "output_type": "error",
     "traceback": [
      "\u001b[0;31m---------------------------------------------------------------------------\u001b[0m",
      "\u001b[0;31mKeyboardInterrupt\u001b[0m                         Traceback (most recent call last)",
      "Input \u001b[0;32mIn [4]\u001b[0m, in \u001b[0;36m<cell line: 3>\u001b[0;34m()\u001b[0m\n\u001b[1;32m      1\u001b[0m \u001b[38;5;66;03m# If you want mapper\u001b[39;00m\n\u001b[1;32m      2\u001b[0m \u001b[38;5;66;03m# Run Timeloop mapper with the provided arguments\u001b[39;00m\n\u001b[0;32m----> 3\u001b[0m result \u001b[38;5;241m=\u001b[39m \u001b[43mrun_timeloop_mapper\u001b[49m\u001b[43m(\u001b[49m\n\u001b[1;32m      4\u001b[0m \u001b[43m    \u001b[49m\u001b[43marchitecture_yaml\u001b[49m\u001b[38;5;241;43m=\u001b[39;49m\u001b[43marchitecture\u001b[49m\u001b[43m,\u001b[49m\n\u001b[1;32m      5\u001b[0m \u001b[43m    \u001b[49m\u001b[43mworkload\u001b[49m\u001b[38;5;241;43m=\u001b[39;49m\u001b[43mworkload\u001b[49m\u001b[43m,\u001b[49m\n\u001b[1;32m      6\u001b[0m \u001b[43m    \u001b[49m\u001b[43msparse_opts\u001b[49m\u001b[38;5;241;43m=\u001b[39;49m\u001b[43msparse_opts\u001b[49m\u001b[43m,\u001b[49m\n\u001b[1;32m      7\u001b[0m \u001b[43m    \u001b[49m\u001b[43mERT\u001b[49m\u001b[38;5;241;43m=\u001b[39;49m\u001b[43mERT_output_path\u001b[49m\u001b[43m,\u001b[49m\n\u001b[1;32m      8\u001b[0m \u001b[43m    \u001b[49m\u001b[43mART\u001b[49m\u001b[38;5;241;43m=\u001b[39;49m\u001b[43mART_output_path\u001b[49m\u001b[43m,\u001b[49m\n\u001b[1;32m      9\u001b[0m \u001b[43m    \u001b[49m\u001b[43moutput_mapping_path\u001b[49m\u001b[38;5;241;43m=\u001b[39;49m\u001b[38;5;124;43m\"\u001b[39;49m\u001b[38;5;124;43msearched_mapping.yaml\u001b[39;49m\u001b[38;5;124;43m\"\u001b[39;49m\u001b[43m,\u001b[49m\n\u001b[1;32m     10\u001b[0m \u001b[43m    \u001b[49m\u001b[43mmapper\u001b[49m\u001b[38;5;241;43m=\u001b[39;49m\u001b[43mmapper\u001b[49m\u001b[43m,\u001b[49m\n\u001b[1;32m     11\u001b[0m \u001b[43m    \u001b[49m\u001b[43mconstraints\u001b[49m\u001b[38;5;241;43m=\u001b[39;49m\u001b[43mconstraints\u001b[49m\n\u001b[1;32m     12\u001b[0m \u001b[43m)\u001b[49m\n\u001b[1;32m     14\u001b[0m mapping_path \u001b[38;5;241m=\u001b[39m result[\u001b[38;5;124m\"\u001b[39m\u001b[38;5;124mbest_mapping\u001b[39m\u001b[38;5;124m\"\u001b[39m]\n\u001b[1;32m     15\u001b[0m \u001b[38;5;28mprint\u001b[39m(mapping_path)\n",
      "File \u001b[0;32m~/2022.micro.artifact/experiments-maggie/helpers.py:155\u001b[0m, in \u001b[0;36mrun_timeloop_mapper\u001b[0;34m(architecture_yaml, workload, sparse_opts, ERT, ART, output_mapping_path, mapper, config, constraints)\u001b[0m\n\u001b[1;32m    153\u001b[0m \u001b[38;5;66;03m# Run the mapper\u001b[39;00m\n\u001b[1;32m    154\u001b[0m \u001b[38;5;28;01mtry\u001b[39;00m:\n\u001b[0;32m--> 155\u001b[0m     result \u001b[38;5;241m=\u001b[39m \u001b[43msubprocess\u001b[49m\u001b[38;5;241;43m.\u001b[39;49m\u001b[43mcall\u001b[49m\u001b[43m(\u001b[49m\u001b[43mcmd\u001b[49m\u001b[43m)\u001b[49m\n\u001b[1;32m    157\u001b[0m \u001b[38;5;28;01mexcept\u001b[39;00m subprocess\u001b[38;5;241m.\u001b[39mCalledProcessError \u001b[38;5;28;01mas\u001b[39;00m e:\n\u001b[1;32m    158\u001b[0m     logger\u001b[38;5;241m.\u001b[39merror(\u001b[38;5;124mf\u001b[39m\u001b[38;5;124m\"\u001b[39m\u001b[38;5;124mMapper failed with return code \u001b[39m\u001b[38;5;132;01m{\u001b[39;00me\u001b[38;5;241m.\u001b[39mreturncode\u001b[38;5;132;01m}\u001b[39;00m\u001b[38;5;124m\"\u001b[39m)\n",
      "File \u001b[0;32m/usr/local/bin/conda/lib/python3.8/subprocess.py:342\u001b[0m, in \u001b[0;36mcall\u001b[0;34m(timeout, *popenargs, **kwargs)\u001b[0m\n\u001b[1;32m    340\u001b[0m \u001b[38;5;28;01mwith\u001b[39;00m Popen(\u001b[38;5;241m*\u001b[39mpopenargs, \u001b[38;5;241m*\u001b[39m\u001b[38;5;241m*\u001b[39mkwargs) \u001b[38;5;28;01mas\u001b[39;00m p:\n\u001b[1;32m    341\u001b[0m     \u001b[38;5;28;01mtry\u001b[39;00m:\n\u001b[0;32m--> 342\u001b[0m         \u001b[38;5;28;01mreturn\u001b[39;00m \u001b[43mp\u001b[49m\u001b[38;5;241;43m.\u001b[39;49m\u001b[43mwait\u001b[49m\u001b[43m(\u001b[49m\u001b[43mtimeout\u001b[49m\u001b[38;5;241;43m=\u001b[39;49m\u001b[43mtimeout\u001b[49m\u001b[43m)\u001b[49m\n\u001b[1;32m    343\u001b[0m     \u001b[38;5;28;01mexcept\u001b[39;00m:  \u001b[38;5;66;03m# Including KeyboardInterrupt, wait handled that.\u001b[39;00m\n\u001b[1;32m    344\u001b[0m         p\u001b[38;5;241m.\u001b[39mkill()\n",
      "File \u001b[0;32m/usr/local/bin/conda/lib/python3.8/subprocess.py:1083\u001b[0m, in \u001b[0;36mPopen.wait\u001b[0;34m(self, timeout)\u001b[0m\n\u001b[1;32m   1081\u001b[0m     endtime \u001b[38;5;241m=\u001b[39m _time() \u001b[38;5;241m+\u001b[39m timeout\n\u001b[1;32m   1082\u001b[0m \u001b[38;5;28;01mtry\u001b[39;00m:\n\u001b[0;32m-> 1083\u001b[0m     \u001b[38;5;28;01mreturn\u001b[39;00m \u001b[38;5;28;43mself\u001b[39;49m\u001b[38;5;241;43m.\u001b[39;49m\u001b[43m_wait\u001b[49m\u001b[43m(\u001b[49m\u001b[43mtimeout\u001b[49m\u001b[38;5;241;43m=\u001b[39;49m\u001b[43mtimeout\u001b[49m\u001b[43m)\u001b[49m\n\u001b[1;32m   1084\u001b[0m \u001b[38;5;28;01mexcept\u001b[39;00m \u001b[38;5;167;01mKeyboardInterrupt\u001b[39;00m:\n\u001b[1;32m   1085\u001b[0m     \u001b[38;5;66;03m# https://bugs.python.org/issue25942\u001b[39;00m\n\u001b[1;32m   1086\u001b[0m     \u001b[38;5;66;03m# The first keyboard interrupt waits briefly for the child to\u001b[39;00m\n\u001b[1;32m   1087\u001b[0m     \u001b[38;5;66;03m# exit under the common assumption that it also received the ^C\u001b[39;00m\n\u001b[1;32m   1088\u001b[0m     \u001b[38;5;66;03m# generated SIGINT and will exit rapidly.\u001b[39;00m\n\u001b[1;32m   1089\u001b[0m     \u001b[38;5;28;01mif\u001b[39;00m timeout \u001b[38;5;129;01mis\u001b[39;00m \u001b[38;5;129;01mnot\u001b[39;00m \u001b[38;5;28;01mNone\u001b[39;00m:\n",
      "File \u001b[0;32m/usr/local/bin/conda/lib/python3.8/subprocess.py:1806\u001b[0m, in \u001b[0;36mPopen._wait\u001b[0;34m(self, timeout)\u001b[0m\n\u001b[1;32m   1804\u001b[0m \u001b[38;5;28;01mif\u001b[39;00m \u001b[38;5;28mself\u001b[39m\u001b[38;5;241m.\u001b[39mreturncode \u001b[38;5;129;01mis\u001b[39;00m \u001b[38;5;129;01mnot\u001b[39;00m \u001b[38;5;28;01mNone\u001b[39;00m:\n\u001b[1;32m   1805\u001b[0m     \u001b[38;5;28;01mbreak\u001b[39;00m  \u001b[38;5;66;03m# Another thread waited.\u001b[39;00m\n\u001b[0;32m-> 1806\u001b[0m (pid, sts) \u001b[38;5;241m=\u001b[39m \u001b[38;5;28;43mself\u001b[39;49m\u001b[38;5;241;43m.\u001b[39;49m\u001b[43m_try_wait\u001b[49m\u001b[43m(\u001b[49m\u001b[38;5;241;43m0\u001b[39;49m\u001b[43m)\u001b[49m\n\u001b[1;32m   1807\u001b[0m \u001b[38;5;66;03m# Check the pid and loop as waitpid has been known to\u001b[39;00m\n\u001b[1;32m   1808\u001b[0m \u001b[38;5;66;03m# return 0 even without WNOHANG in odd situations.\u001b[39;00m\n\u001b[1;32m   1809\u001b[0m \u001b[38;5;66;03m# http://bugs.python.org/issue14396.\u001b[39;00m\n\u001b[1;32m   1810\u001b[0m \u001b[38;5;28;01mif\u001b[39;00m pid \u001b[38;5;241m==\u001b[39m \u001b[38;5;28mself\u001b[39m\u001b[38;5;241m.\u001b[39mpid:\n",
      "File \u001b[0;32m/usr/local/bin/conda/lib/python3.8/subprocess.py:1764\u001b[0m, in \u001b[0;36mPopen._try_wait\u001b[0;34m(self, wait_flags)\u001b[0m\n\u001b[1;32m   1762\u001b[0m \u001b[38;5;124;03m\"\"\"All callers to this function MUST hold self._waitpid_lock.\"\"\"\u001b[39;00m\n\u001b[1;32m   1763\u001b[0m \u001b[38;5;28;01mtry\u001b[39;00m:\n\u001b[0;32m-> 1764\u001b[0m     (pid, sts) \u001b[38;5;241m=\u001b[39m \u001b[43mos\u001b[49m\u001b[38;5;241;43m.\u001b[39;49m\u001b[43mwaitpid\u001b[49m\u001b[43m(\u001b[49m\u001b[38;5;28;43mself\u001b[39;49m\u001b[38;5;241;43m.\u001b[39;49m\u001b[43mpid\u001b[49m\u001b[43m,\u001b[49m\u001b[43m \u001b[49m\u001b[43mwait_flags\u001b[49m\u001b[43m)\u001b[49m\n\u001b[1;32m   1765\u001b[0m \u001b[38;5;28;01mexcept\u001b[39;00m \u001b[38;5;167;01mChildProcessError\u001b[39;00m:\n\u001b[1;32m   1766\u001b[0m     \u001b[38;5;66;03m# This happens if SIGCLD is set to be ignored or waiting\u001b[39;00m\n\u001b[1;32m   1767\u001b[0m     \u001b[38;5;66;03m# for child processes has otherwise been disabled for our\u001b[39;00m\n\u001b[1;32m   1768\u001b[0m     \u001b[38;5;66;03m# process.  This child is dead, we can't get the status.\u001b[39;00m\n\u001b[1;32m   1769\u001b[0m     pid \u001b[38;5;241m=\u001b[39m \u001b[38;5;28mself\u001b[39m\u001b[38;5;241m.\u001b[39mpid\n",
      "\u001b[0;31mKeyboardInterrupt\u001b[0m: "
     ]
    }
   ],
   "source": [
    "# If you want mapper\n",
    "# Run Timeloop mapper with the provided arguments\n",
    "result = run_timeloop_mapper(\n",
    "    architecture_yaml=architecture,\n",
    "    workload=workload,\n",
    "    sparse_opts=sparse_opts,\n",
    "    ERT=ERT_output_path,\n",
    "    ART=ART_output_path,\n",
    "    output_mapping_path=\"searched_mapping.yaml\",\n",
    "    mapper=mapper,\n",
    "    constraints=constraints\n",
    ")\n",
    "\n",
    "mapping_path = result[\"best_mapping\"]\n",
    "print(mapping_path)"
   ]
  },
  {
   "cell_type": "code",
   "execution_count": 3,
   "id": "2039683e",
   "metadata": {},
   "outputs": [
    {
     "ename": "NameError",
     "evalue": "name 'mapping_path' is not defined",
     "output_type": "error",
     "traceback": [
      "\u001b[0;31m---------------------------------------------------------------------------\u001b[0m",
      "\u001b[0;31mNameError\u001b[0m                                 Traceback (most recent call last)",
      "Input \u001b[0;32mIn [3]\u001b[0m, in \u001b[0;36m<cell line: 2>\u001b[0;34m()\u001b[0m\n\u001b[1;32m      1\u001b[0m \u001b[38;5;66;03m# If you already have mapping\u001b[39;00m\n\u001b[1;32m      2\u001b[0m output_path \u001b[38;5;241m=\u001b[39m run_timeloop(\n\u001b[1;32m      3\u001b[0m     arch_yaml\u001b[38;5;241m=\u001b[39marchitecture,\n\u001b[1;32m      4\u001b[0m     workload\u001b[38;5;241m=\u001b[39mworkload,\n\u001b[1;32m      5\u001b[0m     sparse_opts\u001b[38;5;241m=\u001b[39msparse_opts,\n\u001b[0;32m----> 6\u001b[0m     mapping\u001b[38;5;241m=\u001b[39m\u001b[43mmapping_path\u001b[49m,\n\u001b[1;32m      7\u001b[0m     constraints\u001b[38;5;241m=\u001b[39mconstraints,\n\u001b[1;32m      8\u001b[0m     mapper\u001b[38;5;241m=\u001b[39mmapper,\n\u001b[1;32m      9\u001b[0m     ert_path\u001b[38;5;241m=\u001b[39mERT_output_path,\n\u001b[1;32m     10\u001b[0m     art_path\u001b[38;5;241m=\u001b[39mART_output_path,\n\u001b[1;32m     11\u001b[0m     output_dir\u001b[38;5;241m=\u001b[39m\u001b[38;5;124m\"\u001b[39m\u001b[38;5;124mtimeloop_output_test_3\u001b[39m\u001b[38;5;124m\"\u001b[39m\n\u001b[1;32m     12\u001b[0m )\n",
      "\u001b[0;31mNameError\u001b[0m: name 'mapping_path' is not defined"
     ]
    }
   ],
   "source": [
    "# If you already have mapping\n",
    "output_path = run_timeloop(\n",
    "    arch_yaml=architecture,\n",
    "    workload=workload,\n",
    "    sparse_opts=sparse_opts,\n",
    "    mapping=mapping_path,\n",
    "    constraints=constraints,\n",
    "    mapper=mapper,\n",
    "    ert_path=ERT_output_path,\n",
    "    art_path=ART_output_path,\n",
    "    output_dir=\"timeloop_output_test_3\"\n",
    ")"
   ]
  },
  {
   "cell_type": "code",
   "execution_count": 10,
   "id": "ee6c1dff",
   "metadata": {
    "scrolled": true
   },
   "outputs": [
    {
     "data": {
      "image/png": "[encoded data removed]",
      "text/plain": [
       "<Figure size 864x432 with 1 Axes>"
      ]
     },
     "metadata": {
      "needs_background": "light"
     },
     "output_type": "display_data"
    }
   ],
   "source": [
    "# Plot output\n",
    "output = parse_timeloop_stats(\"timeloop_output_test_3/timeloop-model.map+stats.xml\")\n",
    "plot_read_write_energy(output[\"energy_breakdown_pJ\"])"
   ]
  },
  {
   "cell_type": "code",
   "execution_count": null,
   "id": "a2d1d547",
   "metadata": {},
   "outputs": [],
   "source": []
  },
  {
   "cell_type": "code",
   "execution_count": 3,
   "id": "01956479",
   "metadata": {},
   "outputs": [
    {
     "name": "stdout",
     "output_type": "stream",
     "text": [
      "Running Accelergy command: accelergy /home/workspace/2022.micro.artifact/experiments-maggie/arch3.yaml /home/workspace/2022.micro.artifact/experiments-maggie/compound_components.yaml -o accelergy_temp -v 1\n",
      "    _                _                      \n",
      "   / \\   ___ ___ ___| | ___ _ __ __ _ _   _ \n",
      "  / _ \\ / __/ __/ _ \\ |/ _ \\ '__/ _` | | | |\n",
      " / ___ \\ (_| (_|  __/ |  __/ | | (_| | |_| |\n",
      "/_/   \\_\\___\\___\\___|_|\\___|_|  \\__, |\\__, |\n",
      "                                |___/ |___/ \n",
      "\n",
      "Info: generating outputs according to the following specified output flags... \n",
      " Please use the -f flag to update the preference (default to all output files) \n",
      "{'ERT': 1, 'ERT_summary': 1, 'ART': 1, 'ART_summary': 1, 'energy_estimation': 1, 'flattened_arch': 1}\n",
      "Info: config file located: /home/workspace/.config/accelergy/accelergy_config.yaml \n",
      "config file content: \n",
      " {'version': 0.3, 'compound_components': [], 'estimator_plug_ins': ['/usr/local/share/accelergy/estimation_plug_ins'], 'primitive_components': ['/usr/local/share/accelergy/primitive_component_libs'], 'table_plug_ins': {'roots': ['/usr/local/share/accelergy/estimation_plug_ins/accelergy-table-based-plug-ins/set_of_table_templates']}}\n",
      "Info: Parsing file /home/workspace/2022.micro.artifact/experiments-maggie/arch3.yaml for architecture info \n",
      "Info: Found non-numeric expression 45nm. Available bindings: {'technology': '45nm'} \n",
      "WARN: Failed to evaluate \"45nm\". Setting eyeriss_v2.technology=\"45nm\". Available bindings: {'technology': '45nm'}\n",
      "Info: Found non-numeric expression HBM2. Available bindings: {'type': 'HBM2', 'width': 256, 'block-size': 16, 'word-bits': 16, 'metadata_storage_width': 16, 'technology': '45nm', 'meshX': 8, 'meshY': 2} \n",
      "WARN: Failed to evaluate \"HBM2\". Setting variables.type=\"HBM2\". Available bindings: {'name': 'BackingStorage', 'class': 'DRAM', 'subclass': 'DRAM', 'attributes': {'type': 'HBM2', 'width': 256, 'block-size': 16, 'word-bits': 16, 'metadata_storage_width': 16, 'technology': '45nm', 'meshX': 8, 'meshY': 2}}\n",
      "Info: Parsing file /home/workspace/2022.micro.artifact/experiments-maggie/compound_components.yaml for compound_components info \n",
      "Info: primitive component file parsed:  /usr/local/share/accelergy/primitive_component_libs/pim_primitive_component.lib.yaml \n",
      "Info: primitive component file parsed:  /usr/local/share/accelergy/primitive_component_libs/soc_primitives.lib.yaml \n",
      "Info: primitive component file parsed:  /usr/local/share/accelergy/primitive_component_libs/primitive_component.lib.yaml \n",
      "Info: Calculated \"data_storage_width\" = 8 \n",
      "Info: Calculated \"metadata_storage_width\" = 4 \n",
      "Info: Calculated \"log(data_storage_depth)\" = 2.772588722239781 \n",
      "Info: Calculated \"metadata_storage_width\" = 8 \n",
      "Info: Calculated \"log(data_storage_depth)\" = 5.2574953720277815 \n",
      "Info: Calculated \"data_storage_width\" = 20 \n",
      "Info: Calculated \"metadata_storage_width\" = 0 \n",
      "Info: Calculated \"log(data_storage_depth)\" = 3.4657359027997265 \n",
      "Info: Calculated \"data_storage_width\" = 8 \n",
      "Info: Calculated \"metadata_storage_width\" = 4 \n",
      "Info: Calculated \"log(data_storage_depth)\" = 0 \n",
      "Info: Found non-numeric expression 5ns. Available bindings: OrderedDict([('technology', '45nm'), ('width', 8), ('depth', 16), ('word_bits', 8), ('datawidth', 8), ('n_rdwr_ports', 2), ('n_banks', 1), ('n_rd_ports', 0), ('n_wr_ports', 0), ('latency', '5ns')]) \n",
      "WARN: Failed to evaluate \"5ns\". Setting storage.latency=\"5ns\". Available bindings: OrderedDict([('technology', '45nm'), ('width', 8), ('depth', 16), ('word_bits', 8), ('datawidth', 8), ('n_rdwr_ports', 2), ('n_banks', 1), ('n_rd_ports', 0), ('n_wr_ports', 0), ('latency', '5ns')])\n",
      "Info: estimator plug-in identified by:  /usr/local/share/accelergy/estimation_plug_ins/accelergy-cacti-plug-in/cacti.estimator.yaml \n",
      "Info: estimator plug-in identified by:  /usr/local/share/accelergy/estimation_plug_ins/accelergy-aladdin-plug-in/aladdin.estimator.yaml \n",
      "Info: estimator plug-in identified by:  /usr/local/share/accelergy/estimation_plug_ins/dummy_tables/dummy.estimator.yaml \n",
      "Info: estimator plug-in identified by:  /usr/local/share/accelergy/estimation_plug_ins/accelergy-table-based-plug-ins/table.estimator.yaml \n",
      "table-based-plug-ins Identifies a set of tables named:  test_tables\n",
      "Info: CACTI plug-in... Querying CACTI for request:\n",
      " {'class_name': 'SRAM', 'attributes': OrderedDict([('technology', '45nm'), ('width', 8), ('depth', 192), ('word_bits', 8), ('datawidth', 8), ('n_rdwr_ports', 2), ('n_banks', 1), ('n_rd_ports', 0), ('n_wr_ports', 0), ('latency', '5ns')]), 'action_name': 'write', 'arguments': None}\n",
      "WARN: CACTI Plug-in...  intended SRAM size is smaller than 64 words\n",
      "intended SRAM size: 192 block size: 4\n",
      "corrected SRAM size: 256\n",
      "copy  /usr/local/share/accelergy/estimation_plug_ins/accelergy-cacti-plug-in/default_SRAM.cfg  to  /usr/local/share/accelergy/estimation_plug_ins/accelergy-cacti-plug-in/cacti/04_27_21_12_03_SRAM.cfg\n",
      "CACTI plug-in removing temp file:  /usr/local/share/accelergy/estimation_plug_ins/accelergy-cacti-plug-in/cacti/04_27_21_12_03_SRAM.cfg\n",
      "Info: CACTI plug-in... Querying CACTI for request:\n",
      " {'class_name': 'SRAM', 'attributes': OrderedDict([('technology', '45nm'), ('width', 8), ('depth', 128), ('word_bits', 8), ('datawidth', 8), ('n_rd_ports', 0), ('n_wr_ports', 0), ('n_rdwr_ports', 1), ('n_banks', 1), ('latency', '5ns')]), 'action_name': 'read', 'arguments': None}\n",
      "WARN: CACTI Plug-in...  intended SRAM size is smaller than 64 words\n",
      "intended SRAM size: 128 block size: 4\n",
      "corrected SRAM size: 256\n",
      "copy  /usr/local/share/accelergy/estimation_plug_ins/accelergy-cacti-plug-in/default_SRAM.cfg  to  /usr/local/share/accelergy/estimation_plug_ins/accelergy-cacti-plug-in/cacti/04_27_21_12_03_SRAM.cfg\n",
      "CACTI plug-in removing temp file:  /usr/local/share/accelergy/estimation_plug_ins/accelergy-cacti-plug-in/cacti/04_27_21_12_03_SRAM.cfg\n",
      "Info: CACTI plug-in... Querying CACTI for request:\n",
      " {'class_name': 'SRAM', 'attributes': OrderedDict([('technology', '45nm'), ('width', 20), ('depth', 32), ('word_bits', 20), ('datawidth', 20), ('n_rdwr_ports', 2), ('n_banks', 1), ('n_rd_ports', 0), ('n_wr_ports', 0), ('latency', '5ns')]), 'action_name': 'write', 'arguments': None}\n",
      "WARN: CACTI Plug-in...  intended SRAM size is smaller than 64 words\n",
      "intended SRAM size: 80 block size: 4\n",
      "corrected SRAM size: 256\n",
      "copy  /usr/local/share/accelergy/estimation_plug_ins/accelergy-cacti-plug-in/default_SRAM.cfg  to  /usr/local/share/accelergy/estimation_plug_ins/accelergy-cacti-plug-in/cacti/04_27_21_12_03_SRAM.cfg\n",
      "CACTI plug-in removing temp file:  /usr/local/share/accelergy/estimation_plug_ins/accelergy-cacti-plug-in/cacti/04_27_21_12_03_SRAM.cfg\n",
      "Warn: No action counts are specified as yaml input \n",
      "Info: verbose flattened architecture is saved to: accelergy_temp/flattened_architecture_verbose.yaml \n",
      "Info: energy reference table is saved to: accelergy_temp/ERT.yaml \n",
      "Info: verbose energy reference table summary is saved to: accelergy_temp/ERT_summary_verbose.yaml \n",
      "Warn: no runtime energy estimations are generated... not generating energy_estimation.yaml \n",
      "Info: area reference table is saved to: accelergy_temp/ART.yaml \n",
      "Info: verbose area reference table summary is saved to: accelergy_temp/ART_summary_verbose.yaml \n",
      "Generated ERT file: ERT.yaml\n",
      "Generated ART file: ART.yaml\n"
     ]
    }
   ],
   "source": [
    "# Run Accelergy with the provided arguments\n",
    "result = run_accelergy(\n",
    "    architecture_yaml=architecture2,\n",
    "    component_yaml=component,\n",
    "    ERT_output_path=ERT_output_path,\n",
    "    ART_output_path=ART_output_path\n",
    ")\n",
    "\n",
    "print(f\"Generated ERT file: {result['ERT']}\")\n",
    "print(f\"Generated ART file: {result['ART']}\")"
   ]
  },
  {
   "cell_type": "code",
   "execution_count": null,
   "id": "b99cf161",
   "metadata": {},
   "outputs": [
    {
     "name": "stdout",
     "output_type": "stream",
     "text": [
      "['timeloop-mapper', '/home/workspace/2022.micro.artifact/experiments-maggie/arch3.yaml', '/home/workspace/2022.micro.artifact/experiments-maggie/L07.yaml', 'SI-SW.yaml', '/home/workspace/2022.micro.artifact/experiments-maggie/constraints.yaml', '/home/workspace/2022.micro.artifact/experiments-maggie/mapper.yaml', '--ERT', 'ERT.yaml', '--ART', 'ART.yaml', '-o', 'timeloop_temp']\n",
      "  _______                __                \n",
      " /_  __(_)___ ___  ___  / /___  ____  ____ \n",
      "  / / / / __ `__ \\/ _ \\/ / __ \\/ __ \\/ __ \\\n",
      " / / / / / / / / /  __/ / /_/ / /_/ / /_/ /\n",
      "/_/ /_/_/ /_/ /_/\\___/_/\\____/\\____/ .___/ \n",
      "                                  /_/      \n",
      "\n",
      "Problem configuration complete.\n",
      "Warning: neither block size nor cluster size specified, set according to specified storage width: block size: 1  cluster-size: 1\n",
      "Warning: neither block size nor cluster size specified, set according to specified storage width: block size: 1  cluster-size: 1\n",
      "Warning: neither block size nor cluster size specified, set according to specified storage width: block size: 1  cluster-size: 1\n",
      "Warning: neither block size nor cluster size specified, set according to specified storage width: block size: 1  cluster-size: 1\n",
      "Found Accelergy ERT (energy reference table), replacing internal energy model.\n",
      "Found Accelergy ART (area reference table), replacing internal area model.\n",
      "Architecture configuration complete.\n",
      "Warning: BackingStorage: adjust representation format word bits from 7 to 8 to avoid storage fragmentation.\n",
      "Warning: weight_spad: adjust representation format word bits from 7 to 8 to avoid storage fragmentation.\n",
      "Sparse optimization configuration complete.\n",
      "Using threads = 16\n",
      "Mapper configuration complete.\n",
      "Initializing Index Factorization subspace.\n",
      "  Factorization options along problem dimension R = 15\n",
      "  Factorization options along problem dimension S = 15\n",
      "  Factorization options along problem dimension E = 126\n",
      "  Factorization options along problem dimension F = 126\n",
      "  Factorization options along problem dimension C = 210\n",
      "  Factorization options along problem dimension M = 1365\n",
      "  Factorization options along problem dimension N = 15\n",
      "  Factorization options along problem dimension G = 15\n",
      "Mapspace Dimension [IndexFactorization] Size: 230387054625000\n",
      "Mapspace Dimension [LoopPermutation] Size: 2642908293365760000\n",
      "Mapspace Dimension [Spatial] Size: 1\n",
      "Mapspace Dimension [DatatypeBypass] Size: 4096\n",
      "Mapspace split! Per-split Mapping Dimension [IndexFactorization] Size: 14399190914063 Residue: 8\n",
      "Mapspace construction complete.\n",
      "Search configuration complete.\n"
     ]
    }
   ],
   "source": [
    "# If you want mapper\n",
    "# Run Timeloop mapper with the provided arguments\n",
    "result = run_timeloop_mapper(\n",
    "    architecture_yaml=architecture2,\n",
    "    workload=workload,\n",
    "    sparse_opts=sparse_opts,\n",
    "    ERT=ERT_output_path,\n",
    "    ART=ART_output_path,\n",
    "    output_mapping_path=\"searched_mapping.yaml\",\n",
    "    mapper=mapper,\n",
    "    constraints=constraints\n",
    ")\n",
    "\n",
    "mapping_path = result[\"best_mapping\"]"
   ]
  },
  {
   "cell_type": "code",
   "execution_count": 5,
   "id": "ebf7deef",
   "metadata": {},
   "outputs": [
    {
     "name": "stdout",
     "output_type": "stream",
     "text": [
      "Running Timeloop:\n",
      "timeloop-model /home/workspace/2022.micro.artifact/experiments-maggie/arch2.yaml /home/workspace/2022.micro.artifact/experiments-maggie/L07.yaml /home/workspace/2022.micro.artifact/experiments-maggie/custom_mapping.yaml SI-SW.yaml --ERT ERT.yaml --ART ART.yaml -o timeloop_output_test_3\n",
      "Timeloop failed!\n",
      "ERROR: target storage level not found: MAC\n",
      "\n"
     ]
    }
   ],
   "source": [
    "# If you already have mapping\n",
    "mapping_path = \"/home/workspace/2022.micro.artifact/experiments-maggie/custom_mapping.yaml\"\n",
    "output_path = run_timeloop(\n",
    "    arch_yaml=architecture2,\n",
    "    workload=workload,\n",
    "    sparse_opts=sparse_opts,\n",
    "    mapping=mapping_path,\n",
    "    constraints=constraints,\n",
    "    mapper=mapper,\n",
    "    ert_path=ERT_output_path,\n",
    "    art_path=ART_output_path,\n",
    "    output_dir=\"timeloop_output_test_3\"\n",
    ")"
   ]
  },
  {
   "cell_type": "code",
   "execution_count": 5,
   "id": "8abaeeef",
   "metadata": {},
   "outputs": [
    {
     "data": {
      "image/png": "[encoded data removed]",
      "text/plain": [
       "<Figure size 864x432 with 1 Axes>"
      ]
     },
     "metadata": {
      "needs_background": "light"
     },
     "output_type": "display_data"
    }
   ],
   "source": [
    "# Plot output\n",
    "output = parse_timeloop_stats(\"timeloop_output_test_3/timeloop-model.map+stats.xml\")\n",
    "plot_read_write_energy(output[\"energy_breakdown_pJ\"])"
   ]
  },
  {
   "cell_type": "code",
   "execution_count": null,
   "id": "2d9516ea",
   "metadata": {},
   "outputs": [],
   "source": []
  },
  {
   "cell_type": "code",
   "execution_count": null,
   "id": "2085f5ab",
   "metadata": {},
   "outputs": [],
   "source": []
  },
  {
   "cell_type": "code",
   "execution_count": null,
   "id": "1c610098",
   "metadata": {},
   "outputs": [],
   "source": []
  }
 ],
 "metadata": {
  "kernelspec": {
   "display_name": "Python 3 (ipykernel)",
   "language": "python",
   "name": "python3"
  },
  "language_info": {
   "codemirror_mode": {
    "name": "ipython",
    "version": 3
   },
   "file_extension": ".py",
   "mimetype": "text/x-python",
   "name": "python",
   "nbconvert_exporter": "python",
   "pygments_lexer": "ipython3",
   "version": "3.8.13"
  }
 },
 "nbformat": 4,
 "nbformat_minor": 5
}
