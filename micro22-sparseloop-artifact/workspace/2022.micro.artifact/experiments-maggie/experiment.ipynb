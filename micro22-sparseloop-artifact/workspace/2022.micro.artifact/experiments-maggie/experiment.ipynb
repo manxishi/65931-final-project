{
 "cells": [
  {
   "cell_type": "code",
   "execution_count": 1,
   "id": "40a40d45",
   "metadata": {},
   "outputs": [
    {
     "name": "stdout",
     "output_type": "stream",
     "text": [
      "/home/workspace/2022.micro.artifact/experiments-maggie\n"
     ]
    }
   ],
   "source": [
    "from helpers import *\n",
    "import os\n",
    "print(os.getcwd())"
   ]
  },
  {
   "cell_type": "code",
   "execution_count": 2,
   "id": "a5ae5bef",
   "metadata": {},
   "outputs": [],
   "source": [
    "verbose = True\n",
    "architecture = \"/home/workspace/2022.micro.artifact/experiments-maggie/arch.yaml\"\n",
    "component = \"/home/workspace/2022.micro.artifact/experiments-maggie/compound_components.yaml\"\n",
    "ERT_output_path = \"ERT.yaml\"\n",
    "ART_output_path = \"ART.yaml\"\n",
    "workload = \"/home/workspace/2022.micro.artifact/experiments-maggie/L07.yaml\"\n",
    "mapper = \"/home/workspace/2022.micro.artifact/experiments-maggie/mapper.yaml\"\n",
    "mapping = \"/home/workspace/2022.micro.artifact/experiments-maggie/timeloop_temp/timeloop-mapper.map.yaml\"\n",
    "constraints = \"/home/workspace/2022.micro.artifact/experiments-maggie/constraints.yaml\""
   ]
  },
  {
   "cell_type": "code",
   "execution_count": 3,
   "id": "fe9d7241",
   "metadata": {},
   "outputs": [
    {
     "name": "stdout",
     "output_type": "stream",
     "text": [
      "Running Accelergy command: accelergy /home/workspace/2022.micro.artifact/experiments-maggie/arch.yaml /home/workspace/2022.micro.artifact/experiments-maggie/compound_components.yaml -o accelergy_temp -v 1\n",
      "    _                _                      \n",
      "   / \\   ___ ___ ___| | ___ _ __ __ _ _   _ \n",
      "  / _ \\ / __/ __/ _ \\ |/ _ \\ '__/ _` | | | |\n",
      " / ___ \\ (_| (_|  __/ |  __/ | | (_| | |_| |\n",
      "/_/   \\_\\___\\___\\___|_|\\___|_|  \\__, |\\__, |\n",
      "                                |___/ |___/ \n",
      "\n",
      "Info: generating outputs according to the following specified output flags... \n",
      " Please use the -f flag to update the preference (default to all output files) \n",
      "{'ERT': 1, 'ERT_summary': 1, 'ART': 1, 'ART_summary': 1, 'energy_estimation': 1, 'flattened_arch': 1}\n",
      "Info: config file located: /home/workspace/.config/accelergy/accelergy_config.yaml \n",
      "config file content: \n",
      " {'version': 0.3, 'compound_components': [], 'estimator_plug_ins': ['/usr/local/share/accelergy/estimation_plug_ins'], 'primitive_components': ['/usr/local/share/accelergy/primitive_component_libs'], 'table_plug_ins': {'roots': ['/usr/local/share/accelergy/estimation_plug_ins/accelergy-table-based-plug-ins/set_of_table_templates']}}\n",
      "Info: Parsing file /home/workspace/2022.micro.artifact/experiments-maggie/arch.yaml for architecture info \n",
      "Info: Found non-numeric expression 45nm. Available bindings: {'technology': '45nm'} \n",
      "WARN: Failed to evaluate \"45nm\". Setting eyeriss_v2_PE.technology=\"45nm\". Available bindings: {'technology': '45nm'}\n",
      "Info: Parsing file /home/workspace/2022.micro.artifact/experiments-maggie/compound_components.yaml for compound_components info \n",
      "Info: primitive component file parsed:  /usr/local/share/accelergy/primitive_component_libs/pim_primitive_component.lib.yaml \n",
      "Info: primitive component file parsed:  /usr/local/share/accelergy/primitive_component_libs/soc_primitives.lib.yaml \n",
      "Info: primitive component file parsed:  /usr/local/share/accelergy/primitive_component_libs/primitive_component.lib.yaml \n",
      "Info: Calculated \"data_storage_width\" = 8 \n",
      "Info: Calculated \"metadata_storage_width\" = 4 \n",
      "Info: Calculated \"log(data_storage_depth)\" = 2.772588722239781 \n",
      "Info: Calculated \"metadata_storage_width\" = 8 \n",
      "Info: Calculated \"log(data_storage_depth)\" = 5.2574953720277815 \n",
      "Info: Found non-numeric expression 5ns. Available bindings: {'depth': 32, 'width': 20, 'datawidth': 20, 'block_size': 1, 'technology': '45nm', 'n_rd_ports': 0, 'n_wr_ports': 0, 'n_rdwr_ports': 1, 'n_banks': 1, 'latency': '5ns'} \n",
      "WARN: Failed to evaluate \"5ns\". Setting eyeriss_v2_PE.PE.psum_spad.latency=\"5ns\". Available bindings: {'depth': 32, 'width': 20, 'datawidth': 20, 'block_size': 1, 'technology': '45nm', 'n_rd_ports': 0, 'n_wr_ports': 0, 'n_rdwr_ports': 1, 'n_banks': 1, 'latency': '5ns'}\n",
      "Info: Calculated \"metadata_storage_width\" = 4 \n",
      "Info: Calculated \"log(data_storage_depth)\" = 0 \n",
      "Info: Found non-numeric expression LPDDR4. Available bindings: {'width': 64, 'block_size': 8, 'datawidth': 8, 'metadata_storage_width': 8, 'technology': '45nm', 'type': 'LPDDR4'} \n",
      "WARN: Failed to evaluate \"LPDDR4\". Setting eyeriss_v2_PE.BackingStorage.type=\"LPDDR4\". Available bindings: {'width': 64, 'block_size': 8, 'datawidth': 8, 'metadata_storage_width': 8, 'technology': '45nm', 'type': 'LPDDR4'}\n",
      "Info: Calculated \"n_banks\" = 1 \n",
      "Info: estimator plug-in identified by:  /usr/local/share/accelergy/estimation_plug_ins/accelergy-cacti-plug-in/cacti.estimator.yaml \n",
      "Info: estimator plug-in identified by:  /usr/local/share/accelergy/estimation_plug_ins/accelergy-aladdin-plug-in/aladdin.estimator.yaml \n",
      "Info: estimator plug-in identified by:  /usr/local/share/accelergy/estimation_plug_ins/dummy_tables/dummy.estimator.yaml \n",
      "Info: estimator plug-in identified by:  /usr/local/share/accelergy/estimation_plug_ins/accelergy-table-based-plug-ins/table.estimator.yaml \n",
      "table-based-plug-ins Identifies a set of tables named:  test_tables\n",
      "Info: CACTI plug-in... Querying CACTI for request:\n",
      " {'class_name': 'SRAM', 'attributes': {'depth': 32, 'width': 20, 'datawidth': 20, 'block_size': 1, 'technology': '45nm', 'n_rd_ports': 0, 'n_wr_ports': 0, 'n_rdwr_ports': 1, 'n_banks': 1, 'latency': '5ns'}, 'action_name': 'read', 'arguments': {'data_delta': 0, 'address_delta': 0}}\n",
      "WARN: CACTI Plug-in...  intended SRAM size is smaller than 64 words\n",
      "intended SRAM size: 80 block size: 4\n",
      "corrected SRAM size: 256\n",
      "copy  /usr/local/share/accelergy/estimation_plug_ins/accelergy-cacti-plug-in/default_SRAM.cfg  to  /usr/local/share/accelergy/estimation_plug_ins/accelergy-cacti-plug-in/cacti/04_23_04_03_03_SRAM.cfg\n",
      "CACTI plug-in removing temp file:  /usr/local/share/accelergy/estimation_plug_ins/accelergy-cacti-plug-in/cacti/04_23_04_03_03_SRAM.cfg\n",
      "Info: CACTI plug-in... Querying CACTI for request:\n",
      " {'class_name': 'SRAM', 'attributes': OrderedDict([('technology', '45nm'), ('width', 8), ('depth', 192), ('datawidth', 8), ('n_rdwr_ports', 2), ('n_banks', 1), ('n_rd_ports', 0), ('n_wr_ports', 0), ('latency', '5ns')]), 'action_name': 'write', 'arguments': None}\n",
      "WARN: CACTI Plug-in...  intended SRAM size is smaller than 64 words\n",
      "intended SRAM size: 192 block size: 4\n",
      "corrected SRAM size: 256\n",
      "copy  /usr/local/share/accelergy/estimation_plug_ins/accelergy-cacti-plug-in/default_SRAM.cfg  to  /usr/local/share/accelergy/estimation_plug_ins/accelergy-cacti-plug-in/cacti/04_23_04_03_03_SRAM.cfg\n",
      "CACTI plug-in removing temp file:  /usr/local/share/accelergy/estimation_plug_ins/accelergy-cacti-plug-in/cacti/04_23_04_03_03_SRAM.cfg\n",
      "Info: CACTI plug-in... Querying CACTI for request:\n",
      " {'class_name': 'SRAM', 'attributes': OrderedDict([('technology', '45nm'), ('width', 8), ('depth', 128), ('datawidth', 8), ('n_rd_ports', 0), ('n_wr_ports', 0), ('n_rdwr_ports', 1), ('n_banks', 1), ('latency', '5ns')]), 'action_name': 'read', 'arguments': None}\n",
      "WARN: CACTI Plug-in...  intended SRAM size is smaller than 64 words\n",
      "intended SRAM size: 128 block size: 4\n",
      "corrected SRAM size: 256\n",
      "copy  /usr/local/share/accelergy/estimation_plug_ins/accelergy-cacti-plug-in/default_SRAM.cfg  to  /usr/local/share/accelergy/estimation_plug_ins/accelergy-cacti-plug-in/cacti/04_23_04_03_03_SRAM.cfg\n",
      "CACTI plug-in removing temp file:  /usr/local/share/accelergy/estimation_plug_ins/accelergy-cacti-plug-in/cacti/04_23_04_03_03_SRAM.cfg\n",
      "Warn: No action counts are specified as yaml input \n",
      "Info: verbose flattened architecture is saved to: accelergy_temp/flattened_architecture_verbose.yaml \n",
      "Info: energy reference table is saved to: accelergy_temp/ERT.yaml \n",
      "Info: verbose energy reference table summary is saved to: accelergy_temp/ERT_summary_verbose.yaml \n",
      "Warn: no runtime energy estimations are generated... not generating energy_estimation.yaml \n",
      "Info: area reference table is saved to: accelergy_temp/ART.yaml \n",
      "Info: verbose area reference table summary is saved to: accelergy_temp/ART_summary_verbose.yaml \n",
      "Generated ERT file: ERT.yaml\n",
      "Generated ART file: ART.yaml\n"
     ]
    }
   ],
   "source": [
    "# Run Accelergy with the provided arguments\n",
    "result = run_accelergy(\n",
    "    architecture_yaml=architecture,\n",
    "    component_yaml=component,\n",
    "    ERT_output_path=ERT_output_path,\n",
    "    ART_output_path=ART_output_path\n",
    ")\n",
    "\n",
    "print(f\"Generated ERT file: {result['ERT']}\")\n",
    "print(f\"Generated ART file: {result['ART']}\")"
   ]
  },
  {
   "cell_type": "code",
   "execution_count": 4,
   "id": "410436a6",
   "metadata": {},
   "outputs": [
    {
     "name": "stdout",
     "output_type": "stream",
     "text": [
      "['timeloop-mapper', '/home/workspace/2022.micro.artifact/experiments-maggie/arch.yaml', '/home/workspace/2022.micro.artifact/experiments-maggie/L07.yaml', '/home/workspace/2022.micro.artifact/experiments-maggie/constraints.yaml', '/home/workspace/2022.micro.artifact/experiments-maggie/mapper.yaml', '--ERT', 'ERT.yaml', '--ART', 'ART.yaml', '-o', 'timeloop_temp']\n",
      "  _______                __                \n",
      " /_  __(_)___ ___  ___  / /___  ____  ____ \n",
      "  / / / / __ `__ \\/ _ \\/ / __ \\/ __ \\/ __ \\\n",
      " / / / / / / / / /  __/ / /_/ / /_/ / /_/ /\n",
      "/_/ /_/_/ /_/ /_/\\___/_/\\____/\\____/ .___/ \n",
      "                                  /_/      \n",
      "\n",
      "Problem configuration complete.\n",
      "Warning: neither block size nor cluster size specified, set according to specified storage width: block size: 1  cluster-size: 1\n",
      "Found Accelergy ERT (energy reference table), replacing internal energy model.\n",
      "Found Accelergy ART (area reference table), replacing internal area model.\n",
      "Architecture configuration complete.\n",
      "Sparse optimization configuration complete.\n",
      "Using threads = 4\n",
      "Mapper configuration complete.\n",
      "Initializing Index Factorization subspace.\n",
      "  Factorization options along problem dimension R = 1\n",
      "  Factorization options along problem dimension S = 1\n",
      "  Factorization options along problem dimension E = 126\n",
      "  Factorization options along problem dimension F = 126\n",
      "  Factorization options along problem dimension C = 210\n",
      "  Factorization options along problem dimension M = 210\n",
      "  Factorization options along problem dimension N = 1\n",
      "  Factorization options along problem dimension G = 1\n",
      "Mapspace Dimension [IndexFactorization] Size: 700131600\n",
      "Mapspace Dimension [LoopPermutation] Size: 2642908293365760000\n",
      "Mapspace Dimension [Spatial] Size: 1\n",
      "Mapspace Dimension [DatatypeBypass] Size: 4096\n",
      "Mapspace split! Per-split Mapping Dimension [IndexFactorization] Size: 175032900 Residue: 0\n",
      "Mapspace construction complete.\n",
      "Search configuration complete.\n"
     ]
    },
    {
     "name": "stderr",
     "output_type": "stream",
     "text": [
      "[  0] Utilization = 1.00 | pJ/Compute =  255.561 | L4[WIO] E32 - L3[] F4 - L2[] F2 - L1[] G1 - L0[] M64 C64 F4 \n",
      "[  2] Utilization = 1.00 | pJ/Compute =  255.561 | L4[WIO] E2 - L3[] F4 - L2[] F2 - L1[] E2 - L0[] M64 C64 F4 E8 \n",
      "[  1] Utilization = 1.00 | pJ/Compute =  255.561 | L4[WIO] E2 - L3[] F4 - L2[] F2 - L1[] G1 - L0[] M64 C64 F4 E16 \n",
      "[  3] Utilization = 1.00 | pJ/Compute =  255.561 | L4[WIO] E2 - L3[] F4 - L2[] F2 - L1[] E16 - L0[] M64 C64 F4 \n",
      "[  2] Utilization = 1.00 | pJ/Compute =  192.612 | L4[WIO] F4 - L3[] M64 F2 C32 - L2[] F2 - L1[W] E4 - L0[] C2 F2 E8 \n",
      "[  2] Utilization = 1.00 | pJ/Compute =  192.599 | L4[WIO] F4 - L3[] M64 F2 C32 - L2[W] F2 - L1[] E4 - L0[] C2 F2 E8 \n",
      "[  0] Utilization = 1.00 | pJ/Compute =  192.612 | L4[WIO] F4 - L3[] M64 F2 C32 - L2[] F2 - L1[W] E2 - L0[] C2 F2 E16 \n",
      "[  0] Utilization = 1.00 | pJ/Compute =  192.599 | L4[WIO] F4 - L3[] M64 F2 C32 - L2[W] F2 - L1[] E2 - L0[] C2 F2 E16 \n",
      "[  3] Utilization = 1.00 | pJ/Compute =  192.612 | L4[WIO] F4 - L3[] M64 F2 C32 - L2[] F2 - L1[W] E8 - L0[] C2 F2 E4 \n",
      "[  3] Utilization = 1.00 | pJ/Compute =  192.599 | L4[WIO] F4 - L3[] M64 F2 C32 - L2[W] F2 - L1[] E8 - L0[] C2 F2 E4 \n",
      "[  1] Utilization = 1.00 | pJ/Compute =  192.612 | L4[WIO] F4 - L3[] M64 F2 C32 - L2[] F2 - L1[W] E16 - L0[] C2 F2 E2 \n",
      "[  1] Utilization = 1.00 | pJ/Compute =  192.599 | L4[WIO] F4 - L3[] M64 F2 C32 - L2[W] F2 - L1[] E16 - L0[] C2 F2 E2 \n",
      "[  2] Utilization = 1.00 | pJ/Compute =  130.689 | L4[WIO] F4 - L3[] M64 F2 C32 - L2[O] F2 - L1[] E4 - L0[] C2 F2 E8 \n",
      "[  2] Utilization = 1.00 | pJ/Compute =   67.739 | L4[WIO] F4 - L3[] M64 F2 C32 - L2[O] F2 - L1[W] E4 - L0[] C2 F2 E8 \n",
      "[  2] Utilization = 1.00 | pJ/Compute =   67.726 | L4[WIO] F4 - L3[] M64 F2 C32 - L2[WO] F2 - L1[] E4 - L0[] C2 F2 E8 \n",
      "[  0] Utilization = 1.00 | pJ/Compute =  130.689 | L4[WIO] F4 - L3[] M64 F2 C32 - L2[O] F2 - L1[] E2 - L0[] C2 F2 E16 \n",
      "[  0] Utilization = 1.00 | pJ/Compute =   67.739 | L4[WIO] F4 - L3[] M64 F2 C32 - L2[O] F2 - L1[W] E2 - L0[] C2 F2 E16 \n",
      "[  0] Utilization = 1.00 | pJ/Compute =   67.726 | L4[WIO] F4 - L3[] M64 F2 C32 - L2[WO] F2 - L1[] E2 - L0[] C2 F2 E16 \n",
      "[  3] Utilization = 1.00 | pJ/Compute =  130.689 | L4[WIO] F4 - L3[] M64 F2 C32 - L2[O] F2 - L1[] E8 - L0[] C2 F2 E4 \n",
      "[  1] Utilization = 1.00 | pJ/Compute =  130.689 | L4[WIO] F4 - L3[] M64 F2 C32 - L2[O] F2 - L1[] E16 - L0[] C2 F2 E2 \n",
      "[  3] Utilization = 1.00 | pJ/Compute =   67.739 | L4[WIO] F4 - L3[] M64 F2 C32 - L2[O] F2 - L1[W] E8 - L0[] C2 F2 E4 \n",
      "[  1] Utilization = 1.00 | pJ/Compute =   67.739 | L4[WIO] F4 - L3[] M64 F2 C32 - L2[O] F2 - L1[W] E16 - L0[] C2 F2 E2 \n",
      "[  3] Utilization = 1.00 | pJ/Compute =   67.726 | L4[WIO] F4 - L3[] M64 F2 C32 - L2[WO] F2 - L1[] E8 - L0[] C2 F2 E4 \n",
      "[  1] Utilization = 1.00 | pJ/Compute =   67.726 | L4[WIO] F4 - L3[] M64 F2 C32 - L2[WO] F2 - L1[] E16 - L0[] C2 F2 E2 \n",
      "[  3] Utilization = 1.00 | pJ/Compute =   15.894 | L4[WIO] E4 F2 - L3[] M8 F2 E4 C16 - L2[WO] C2 M4 - L1[I] M2 F8 E2 - L0[] C2 \n",
      "[  3] Utilization = 1.00 | pJ/Compute =   15.886 | L4[WIO] E4 F2 - L3[] M8 F2 E4 C16 - L2[IO] C2 M4 - L1[W] M2 F8 E2 - L0[] C2 \n",
      "[  3] Utilization = 1.00 | pJ/Compute =   15.509 | L4[WIO] E4 F2 - L3[] M8 F2 E4 C16 - L2[WO] C2 M4 - L1[I] M2 F8 E2 - L0[O] C2 \n",
      "[  3] Utilization = 1.00 | pJ/Compute =   15.502 | L4[WIO] E4 F2 - L3[] M8 F2 E4 C16 - L2[IO] C2 M4 - L1[W] M2 F8 E2 - L0[O] C2 \n",
      "[  2] Utilization = 1.00 | pJ/Compute =   15.894 | L4[WIO] E4 F2 - L3[] M8 F2 E4 C16 - L2[WO] C2 M4 - L1[I] M2 F8 - L0[] C2 E2 \n",
      "[  2] Utilization = 1.00 | pJ/Compute =   15.886 | L4[WIO] E4 F2 - L3[] M8 F2 E4 C16 - L2[IO] C2 M4 - L1[W] M2 F8 - L0[] C2 E2 \n",
      "[  0] Utilization = 1.00 | pJ/Compute =   44.317 | L4[WIO] E4 F2 - L3[] F4 C4 M8 E4 - L2[W] F4 M4 C8 - L1[IO] C2 M2 - L0[] E2 \n",
      "[  0] Utilization = 1.00 | pJ/Compute =   44.158 | L4[WIO] E4 F2 - L3[] F4 C4 M8 E4 - L2[W] F4 M4 C8 - L1[IO] C2 M2 - L0[W] E2 \n",
      "[  0] Utilization = 1.00 | pJ/Compute =   44.014 | L4[WIO] E4 F2 - L3[] F4 C4 M8 E4 - L2[WO] F4 M4 C8 - L1[I] C2 M2 - L0[W] E2 \n",
      "[  3] STATEMENT: 250 valid mappings found, terminating search.\n",
      "[  1] Utilization = 1.00 | pJ/Compute =   43.520 | L4[WIO] E4 F2 - L3[] F4 C4 M8 E4 - L2[W] F4 M4 C8 - L1[O] C2 E2 M2 - L0[I] G1 \n",
      "[  2] STATEMENT: 250 valid mappings found, terminating search.\n",
      "[  1] Utilization = 1.00 | pJ/Compute =   43.376 | L4[WIO] E4 F2 - L3[] F4 C4 M8 E4 - L2[WO] F4 M4 C8 - L1[] C2 E2 M2 - L0[I] G1 \n",
      "[  1] STATEMENT: 250 valid mappings found, terminating search.\n",
      "[  0] STATEMENT: 250 valid mappings found, terminating search.\n",
      "2025-04-23 04:03:06,340 - timeloop_mapper - WARNING - No stats file found\n",
      "2025-04-23 04:03:06,346 - timeloop_mapper - INFO - Best mapping file found\n",
      "2025-04-23 04:03:06,347 - timeloop_mapper - WARNING - No energy reference file found\n"
     ]
    },
    {
     "name": "stdout",
     "output_type": "stream",
     "text": [
      "\n",
      "\n",
      "Summary stats for best mapping found by mapper:\n",
      "  Utilization = 1.00 | pJ/Compute =   15.502\n"
     ]
    }
   ],
   "source": [
    "# If you want mapper\n",
    "# Run Timeloop mapper with the provided arguments\n",
    "result = run_timeloop_mapper(\n",
    "    architecture_yaml=architecture,\n",
    "    workload=workload,\n",
    "    ERT=ERT_output_path,\n",
    "    ART=ART_output_path,\n",
    "    output_mapping_path=\"searched_mapping.yaml\",\n",
    "    mapper=mapper,\n",
    "    constraints=constraints\n",
    ")\n",
    "\n",
    "mapping_path = result[\"best_mapping\"]"
   ]
  },
  {
   "cell_type": "code",
   "execution_count": 5,
   "id": "bcdd1368",
   "metadata": {},
   "outputs": [
    {
     "name": "stdout",
     "output_type": "stream",
     "text": [
      "Running Timeloop:\n",
      "timeloop-model /home/workspace/2022.micro.artifact/experiments-maggie/arch.yaml /home/workspace/2022.micro.artifact/experiments-maggie/L07.yaml searched_mapping.yaml --ERT ERT.yaml --ART ART.yaml -o timeloop_output_test_3\n",
      "Timeloop completed successfully.\n"
     ]
    }
   ],
   "source": [
    "# If you already have mapping\n",
    "output_path = run_timeloop(\n",
    "    arch_yaml=architecture,\n",
    "    workload=workload,\n",
    "    mapping=mapping_path,\n",
    "    constraints=constraints,\n",
    "    mapper=mapper,\n",
    "    ert_path=ERT_output_path,\n",
    "    art_path=ART_output_path,\n",
    "    output_dir=\"timeloop_output_test_3\"\n",
    ")"
   ]
  },
  {
   "cell_type": "code",
   "execution_count": 6,
   "id": "21678ce6",
   "metadata": {},
   "outputs": [
    {
     "data": {
      "image/png": "[encoded data removed]",
      "text/plain": [
       "<Figure size 864x432 with 1 Axes>"
      ]
     },
     "metadata": {
      "needs_background": "light"
     },
     "output_type": "display_data"
    }
   ],
   "source": [
    "# Plot output\n",
    "output = parse_timeloop_stats(\"timeloop_output_test_3/timeloop-model.map+stats.xml\")\n",
    "plot_read_write_energy(output[\"energy_breakdown_pJ\"])"
   ]
  },
  {
   "cell_type": "code",
   "execution_count": null,
   "id": "337d5413",
   "metadata": {},
   "outputs": [],
   "source": []
  },
  {
   "cell_type": "code",
   "execution_count": null,
   "id": "5923cc52",
   "metadata": {},
   "outputs": [],
   "source": []
  },
  {
   "cell_type": "code",
   "execution_count": null,
   "id": "1751c726",
   "metadata": {},
   "outputs": [],
   "source": []
  },
  {
   "cell_type": "code",
   "execution_count": null,
   "id": "44a297db",
   "metadata": {},
   "outputs": [],
   "source": []
  }
 ],
 "metadata": {
  "kernelspec": {
   "display_name": "Python 3 (ipykernel)",
   "language": "python",
   "name": "python3"
  },
  "language_info": {
   "codemirror_mode": {
    "name": "ipython",
    "version": 3
   },
   "file_extension": ".py",
   "mimetype": "text/x-python",
   "name": "python",
   "nbconvert_exporter": "python",
   "pygments_lexer": "ipython3",
   "version": "3.8.13"
  }
 },
 "nbformat": 4,
 "nbformat_minor": 5
}
