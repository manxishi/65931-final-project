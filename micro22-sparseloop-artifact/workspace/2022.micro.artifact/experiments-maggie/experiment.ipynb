{
 "cells": [
  {
   "cell_type": "code",
   "execution_count": 1,
   "id": "40a40d45",
   "metadata": {},
   "outputs": [
    {
     "name": "stdout",
     "output_type": "stream",
     "text": [
      "/home/workspace/2022.micro.artifact/experiments-maggie\n"
     ]
    }
   ],
   "source": [
    "from helpers import *\n",
    "import os\n",
    "print(os.getcwd())"
   ]
  },
  {
   "cell_type": "code",
   "execution_count": 2,
   "id": "13370db5",
   "metadata": {},
   "outputs": [
    {
     "name": "stdout",
     "output_type": "stream",
     "text": [
      "['timeloop-mapper', '/home/workspace/2022.micro.artifact/experiments-maggie/arch.yaml', '/home/workspace/2022.micro.artifact/experiments-maggie/L07.yaml', '/home/workspace/2022.micro.artifact/experiments-maggie/constraints.yaml', '/home/workspace/2022.micro.artifact/experiments-maggie/mapper.yaml', '--ERT', 'ERT.yaml', '--ART', 'ART.yaml', '-o', 'timeloop_temp']\n",
      "  _______                __                \n",
      " /_  __(_)___ ___  ___  / /___  ____  ____ \n",
      "  / / / / __ `__ \\/ _ \\/ / __ \\/ __ \\/ __ \\\n",
      " / / / / / / / / /  __/ / /_/ / /_/ / /_/ /\n",
      "/_/ /_/_/ /_/ /_/\\___/_/\\____/\\____/ .___/ \n",
      "                                  /_/      \n",
      "\n",
      "Problem configuration complete.\n",
      "Warning: neither block size nor cluster size specified, set according to specified storage width: block size: 1  cluster-size: 1\n",
      "Found Accelergy ERT (energy reference table), replacing internal energy model.\n",
      "Found Accelergy ART (area reference table), replacing internal area model.\n",
      "Architecture configuration complete.\n",
      "Sparse optimization configuration complete.\n",
      "Using threads = 4\n",
      "Mapper configuration complete.\n",
      "Initializing Index Factorization subspace.\n",
      "  Factorization options along problem dimension R = 1\n",
      "  Factorization options along problem dimension S = 1\n",
      "  Factorization options along problem dimension E = 126\n",
      "  Factorization options along problem dimension F = 126\n",
      "  Factorization options along problem dimension C = 210\n",
      "  Factorization options along problem dimension M = 210\n",
      "  Factorization options along problem dimension N = 1\n",
      "  Factorization options along problem dimension G = 1\n",
      "Mapspace Dimension [IndexFactorization] Size: 700131600\n",
      "Mapspace Dimension [LoopPermutation] Size: 2642908293365760000\n",
      "Mapspace Dimension [Spatial] Size: 1\n",
      "Mapspace Dimension [DatatypeBypass] Size: 4096\n",
      "Mapspace split! Per-split Mapping Dimension [IndexFactorization] Size: 175032900 Residue: 0\n",
      "Mapspace construction complete.\n",
      "Search configuration complete.\n"
     ]
    },
    {
     "name": "stderr",
     "output_type": "stream",
     "text": [
      "[  2] Utilization = 1.00 | pJ/Compute =  255.561 | L4[WIO] E2 - L3[] F4 - L2[] F2 - L1[] E2 - L0[] M64 C64 F4 E8 \n",
      "[  0] Utilization = 1.00 | pJ/Compute =  255.561 | L4[WIO] E32 - L3[] F4 - L2[] F2 - L1[] G1 - L0[] M64 C64 F4 \n",
      "[  3] Utilization = 1.00 | pJ/Compute =  255.561 | L4[WIO] E2 - L3[] F4 - L2[] F2 - L1[] E16 - L0[] M64 C64 F4 \n",
      "[  1] Utilization = 1.00 | pJ/Compute =  255.561 | L4[WIO] E2 - L3[] F4 - L2[] F2 - L1[] G1 - L0[] M64 C64 F4 E16 \n",
      "[  3] Utilization = 1.00 | pJ/Compute =  192.612 | L4[WIO] F4 - L3[] M64 F2 C32 - L2[] F2 - L1[W] E8 - L0[] C2 F2 E4 \n",
      "[  3] Utilization = 1.00 | pJ/Compute =  192.599 | L4[WIO] F4 - L3[] M64 F2 C32 - L2[W] F2 - L1[] E8 - L0[] C2 F2 E4 \n",
      "[  0] Utilization = 1.00 | pJ/Compute =  192.612 | L4[WIO] F4 - L3[] M64 F2 C32 - L2[] F2 - L1[W] E2 - L0[] C2 F2 E16 \n",
      "[  0] Utilization = 1.00 | pJ/Compute =  192.599 | L4[WIO] F4 - L3[] M64 F2 C32 - L2[W] F2 - L1[] E2 - L0[] C2 F2 E16 \n",
      "[  1] Utilization = 1.00 | pJ/Compute =  192.612 | L4[WIO] F4 - L3[] M64 F2 C32 - L2[] F2 - L1[W] E16 - L0[] C2 F2 E2 \n",
      "[  2] Utilization = 1.00 | pJ/Compute =  192.612 | L4[WIO] F4 - L3[] M64 F2 C32 - L2[] F2 - L1[W] E4 - L0[] C2 F2 E8 \n",
      "[  1] Utilization = 1.00 | pJ/Compute =  192.599 | L4[WIO] F4 - L3[] M64 F2 C32 - L2[W] F2 - L1[] E16 - L0[] C2 F2 E2 \n",
      "[  2] Utilization = 1.00 | pJ/Compute =  192.599 | L4[WIO] F4 - L3[] M64 F2 C32 - L2[W] F2 - L1[] E4 - L0[] C2 F2 E8 \n",
      "[  3] Utilization = 1.00 | pJ/Compute =  130.689 | L4[WIO] F4 - L3[] M64 F2 C32 - L2[O] F2 - L1[] E8 - L0[] C2 F2 E4 \n",
      "[  3] Utilization = 1.00 | pJ/Compute =   67.739 | L4[WIO] F4 - L3[] M64 F2 C32 - L2[O] F2 - L1[W] E8 - L0[] C2 F2 E4 \n",
      "[  3] Utilization = 1.00 | pJ/Compute =   67.726 | L4[WIO] F4 - L3[] M64 F2 C32 - L2[WO] F2 - L1[] E8 - L0[] C2 F2 E4 \n",
      "[  0] Utilization = 1.00 | pJ/Compute =  130.689 | L4[WIO] F4 - L3[] M64 F2 C32 - L2[O] F2 - L1[] E2 - L0[] C2 F2 E16 \n",
      "[  0] Utilization = 1.00 | pJ/Compute =   67.739 | L4[WIO] F4 - L3[] M64 F2 C32 - L2[O] F2 - L1[W] E2 - L0[] C2 F2 E16 \n",
      "[  0] Utilization = 1.00 | pJ/Compute =   67.726 | L4[WIO] F4 - L3[] M64 F2 C32 - L2[WO] F2 - L1[] E2 - L0[] C2 F2 E16 \n",
      "[  2] Utilization = 1.00 | pJ/Compute =  130.689 | L4[WIO] F4 - L3[] M64 F2 C32 - L2[O] F2 - L1[] E4 - L0[] C2 F2 E8 \n",
      "[  1] Utilization = 1.00 | pJ/Compute =  130.689 | L4[WIO] F4 - L3[] M64 F2 C32 - L2[O] F2 - L1[] E16 - L0[] C2 F2 E2 \n",
      "[  2] Utilization = 1.00 | pJ/Compute =   67.739 | L4[WIO] F4 - L3[] M64 F2 C32 - L2[O] F2 - L1[W] E4 - L0[] C2 F2 E8 \n",
      "[  1] Utilization = 1.00 | pJ/Compute =   67.739 | L4[WIO] F4 - L3[] M64 F2 C32 - L2[O] F2 - L1[W] E16 - L0[] C2 F2 E2 \n",
      "[  1] Utilization = 1.00 | pJ/Compute =   67.726 | L4[WIO] F4 - L3[] M64 F2 C32 - L2[WO] F2 - L1[] E16 - L0[] C2 F2 E2 \n",
      "[  2] Utilization = 1.00 | pJ/Compute =   67.726 | L4[WIO] F4 - L3[] M64 F2 C32 - L2[WO] F2 - L1[] E4 - L0[] C2 F2 E8 \n",
      "[  3] Utilization = 1.00 | pJ/Compute =   15.894 | L4[WIO] E4 F2 - L3[] M8 F2 E4 C16 - L2[WO] C2 M4 - L1[I] M2 F8 E2 - L0[] C2 \n",
      "[  3] Utilization = 1.00 | pJ/Compute =   15.886 | L4[WIO] E4 F2 - L3[] M8 F2 E4 C16 - L2[IO] C2 M4 - L1[W] M2 F8 E2 - L0[] C2 \n",
      "[  3] Utilization = 1.00 | pJ/Compute =   15.509 | L4[WIO] E4 F2 - L3[] M8 F2 E4 C16 - L2[WO] C2 M4 - L1[I] M2 F8 E2 - L0[O] C2 \n",
      "[  3] Utilization = 1.00 | pJ/Compute =   15.502 | L4[WIO] E4 F2 - L3[] M8 F2 E4 C16 - L2[IO] C2 M4 - L1[W] M2 F8 E2 - L0[O] C2 \n",
      "[  2] Utilization = 1.00 | pJ/Compute =   15.894 | L4[WIO] E4 F2 - L3[] M8 F2 E4 C16 - L2[WO] C2 M4 - L1[I] M2 F8 - L0[] C2 E2 \n",
      "[  2] Utilization = 1.00 | pJ/Compute =   15.886 | L4[WIO] E4 F2 - L3[] M8 F2 E4 C16 - L2[IO] C2 M4 - L1[W] M2 F8 - L0[] C2 E2 \n",
      "[  0] Utilization = 1.00 | pJ/Compute =   44.317 | L4[WIO] E4 F2 - L3[] F4 C4 M8 E4 - L2[W] F4 M4 C8 - L1[IO] C2 M2 - L0[] E2 \n",
      "[  0] Utilization = 1.00 | pJ/Compute =   44.158 | L4[WIO] E4 F2 - L3[] F4 C4 M8 E4 - L2[W] F4 M4 C8 - L1[IO] C2 M2 - L0[W] E2 \n",
      "[  0] Utilization = 1.00 | pJ/Compute =   44.014 | L4[WIO] E4 F2 - L3[] F4 C4 M8 E4 - L2[WO] F4 M4 C8 - L1[I] C2 M2 - L0[W] E2 \n",
      "[  3] STATEMENT: 250 valid mappings found, terminating search.\n",
      "[  1] Utilization = 1.00 | pJ/Compute =   43.520 | L4[WIO] E4 F2 - L3[] F4 C4 M8 E4 - L2[W] F4 M4 C8 - L1[O] C2 E2 M2 - L0[I] G1 \n",
      "[  2] STATEMENT: 250 valid mappings found, terminating search.\n",
      "[  1] Utilization = 1.00 | pJ/Compute =   43.376 | L4[WIO] E4 F2 - L3[] F4 C4 M8 E4 - L2[WO] F4 M4 C8 - L1[] C2 E2 M2 - L0[I] G1 \n",
      "[  1] STATEMENT: 250 valid mappings found, terminating search.\n",
      "[  0] STATEMENT: 250 valid mappings found, terminating search.\n",
      "2025-04-22 20:45:50,684 - timeloop_mapper - WARNING - No stats file found\n",
      "2025-04-22 20:45:50,689 - timeloop_mapper - INFO - Best mapping file found\n",
      "2025-04-22 20:45:50,692 - timeloop_mapper - WARNING - No energy reference file found\n"
     ]
    },
    {
     "name": "stdout",
     "output_type": "stream",
     "text": [
      "\n",
      "\n",
      "Summary stats for best mapping found by mapper:\n",
      "  Utilization = 1.00 | pJ/Compute =   15.502\n",
      "Running Timeloop:\n",
      "timeloop-model /home/workspace/2022.micro.artifact/experiments-maggie/arch.yaml /home/workspace/2022.micro.artifact/experiments-maggie/L07.yaml searched_mapping.yaml --ERT ERT.yaml --ART ART.yaml -o timeloop_output_test_3\n",
      "Timeloop completed successfully.\n"
     ]
    }
   ],
   "source": [
    "test_run()"
   ]
  },
  {
   "cell_type": "code",
   "execution_count": null,
   "id": "a5ae5bef",
   "metadata": {},
   "outputs": [],
   "source": []
  },
  {
   "cell_type": "code",
   "execution_count": null,
   "id": "fe9d7241",
   "metadata": {},
   "outputs": [],
   "source": []
  }
 ],
 "metadata": {
  "kernelspec": {
   "display_name": "Python 3 (ipykernel)",
   "language": "python",
   "name": "python3"
  },
  "language_info": {
   "codemirror_mode": {
    "name": "ipython",
    "version": 3
   },
   "file_extension": ".py",
   "mimetype": "text/x-python",
   "name": "python",
   "nbconvert_exporter": "python",
   "pygments_lexer": "ipython3",
   "version": "3.8.13"
  }
 },
 "nbformat": 4,
 "nbformat_minor": 5
}
